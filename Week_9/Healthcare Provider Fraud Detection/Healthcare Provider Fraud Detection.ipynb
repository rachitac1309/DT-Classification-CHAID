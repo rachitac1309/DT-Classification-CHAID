{
 "cells": [
  {
   "cell_type": "markdown",
   "metadata": {},
   "source": [
    "# Problem Statement"
   ]
  },
  {
   "cell_type": "markdown",
   "metadata": {},
   "source": [
    "The project's purpose is to \"predict the potentially fraudulent providers\" based on the claims they file. Together with this, we will find significant characteristics that will aid in spotting possibly fraudulent providers' behaviour. In addition, we will investigate fraudulent tendencies in provider claims to better predict provider behaviour in the future."
   ]
  },
  {
   "cell_type": "markdown",
   "metadata": {},
   "source": [
    "### Dataset"
   ]
  },
  {
   "cell_type": "markdown",
   "metadata": {},
   "source": [
    "1)Inpatient Data:\n",
    "This data gives information regarding the claims submitted for patients admitted to hospitals.\n",
    "It also includes information such as their admission and discharge dates, as well as their admit diagnostic code. \n",
    "\n",
    "2)Outpatient Data:\n",
    "This data contains information regarding claims submitted for people who visit hospitals but are not admitted. \n",
    "\n",
    "c)Beneficiary Details Data:\n",
    "This data comprises beneficiary KYC information such as health problems, region of residence, and so forth.\n"
   ]
  },
  {
   "cell_type": "markdown",
   "metadata": {},
   "source": [
    "### Importing required libraries"
   ]
  },
  {
   "cell_type": "code",
   "execution_count": 1,
   "metadata": {
    "execution": {
     "iopub.execute_input": "2023-04-03T04:09:55.177295Z",
     "iopub.status.busy": "2023-04-03T04:09:55.176939Z",
     "iopub.status.idle": "2023-04-03T04:09:55.985872Z",
     "shell.execute_reply": "2023-04-03T04:09:55.984790Z",
     "shell.execute_reply.started": "2023-04-03T04:09:55.177262Z"
    }
   },
   "outputs": [],
   "source": [
    "import pandas as pd\n",
    "import numpy as np\n",
    "import warnings\n",
    "warnings.filterwarnings(\"ignore\")\n",
    "from sklearn.preprocessing import StandardScaler,MinMaxScaler"
   ]
  },
  {
   "cell_type": "markdown",
   "metadata": {},
   "source": [
    "### Loading Train & Test datasets"
   ]
  },
  {
   "cell_type": "code",
   "execution_count": 2,
   "metadata": {
    "execution": {
     "iopub.execute_input": "2023-04-03T04:09:55.989083Z",
     "iopub.status.busy": "2023-04-03T04:09:55.988609Z",
     "iopub.status.idle": "2023-04-03T04:10:00.560065Z",
     "shell.execute_reply": "2023-04-03T04:10:00.559123Z",
     "shell.execute_reply.started": "2023-04-03T04:09:55.989014Z"
    }
   },
   "outputs": [],
   "source": [
    "# Load Train Dataset\n",
    "\n",
    "Train=pd.read_csv(\"/kaggle/input/healthcare-provider-fraud-detection-analysis/Train-1542865627584.csv\")\n",
    "Train_Beneficiarydata=pd.read_csv(\"/kaggle/input/healthcare-provider-fraud-detection-analysis/Train_Beneficiarydata-1542865627584.csv\")\n",
    "Train_Inpatientdata=pd.read_csv(\"/kaggle/input/healthcare-provider-fraud-detection-analysis/Train_Inpatientdata-1542865627584.csv\")\n",
    "Train_Outpatientdata=pd.read_csv(\"/kaggle/input/healthcare-provider-fraud-detection-analysis/Train_Outpatientdata-1542865627584.csv\")"
   ]
  },
  {
   "cell_type": "code",
   "execution_count": 3,
   "metadata": {
    "execution": {
     "iopub.execute_input": "2023-04-03T04:10:00.565208Z",
     "iopub.status.busy": "2023-04-03T04:10:00.564848Z",
     "iopub.status.idle": "2023-04-03T04:10:01.632984Z",
     "shell.execute_reply": "2023-04-03T04:10:01.631911Z",
     "shell.execute_reply.started": "2023-04-03T04:10:00.565165Z"
    }
   },
   "outputs": [],
   "source": [
    "# Load Test Dataset\n",
    "\n",
    "Test=pd.read_csv(\"/kaggle/input/healthcare-provider-fraud-detection-analysis/Test-1542969243754.csv\")\n",
    "Test_Beneficiarydata=pd.read_csv(\"/kaggle/input/healthcare-provider-fraud-detection-analysis/Test_Beneficiarydata-1542969243754.csv\")\n",
    "Test_Inpatientdata=pd.read_csv(\"/kaggle/input/healthcare-provider-fraud-detection-analysis/Test_Inpatientdata-1542969243754.csv\")\n",
    "Test_Outpatientdata=pd.read_csv(\"/kaggle/input/healthcare-provider-fraud-detection-analysis/Test_Outpatientdata-1542969243754.csv\")\n"
   ]
  },
  {
   "cell_type": "code",
   "execution_count": 4,
   "metadata": {
    "execution": {
     "iopub.execute_input": "2023-04-03T04:10:01.636142Z",
     "iopub.status.busy": "2023-04-03T04:10:01.635741Z",
     "iopub.status.idle": "2023-04-03T04:10:01.644800Z",
     "shell.execute_reply": "2023-04-03T04:10:01.643606Z",
     "shell.execute_reply.started": "2023-04-03T04:10:01.636103Z"
    }
   },
   "outputs": [
    {
     "name": "stdout",
     "output_type": "stream",
     "text": [
      "Shape of Train data : (5410, 2)\n",
      "Shape of Train_Beneficiarydata data : (138556, 25)\n",
      "Shape of Train_Inpatientdata data : (40474, 30)\n",
      "Shape of Train_Outpatientdata data : (517737, 27)\n"
     ]
    }
   ],
   "source": [
    "#Checking the shapes of train dataset\n",
    "print('Shape of Train data :',Train.shape)\n",
    "print('Shape of Train_Beneficiarydata data :',Train_Beneficiarydata.shape)\n",
    "print('Shape of Train_Inpatientdata data :',Train_Inpatientdata.shape)\n",
    "print('Shape of Train_Outpatientdata data :',Train_Outpatientdata.shape)\n"
   ]
  },
  {
   "cell_type": "code",
   "execution_count": 5,
   "metadata": {
    "execution": {
     "iopub.execute_input": "2023-04-03T04:10:01.646785Z",
     "iopub.status.busy": "2023-04-03T04:10:01.646243Z",
     "iopub.status.idle": "2023-04-03T04:10:01.656581Z",
     "shell.execute_reply": "2023-04-03T04:10:01.655552Z",
     "shell.execute_reply.started": "2023-04-03T04:10:01.646747Z"
    }
   },
   "outputs": [
    {
     "name": "stdout",
     "output_type": "stream",
     "text": [
      "Shape of Test data : (1353, 1)\n",
      "Shape of Test_Beneficiarydata data : (63968, 25)\n",
      "Shape of Test_Inpatientdata data : (9551, 30)\n",
      "Shape of Test_Outpatientdata data : (125841, 27)\n"
     ]
    }
   ],
   "source": [
    "#Checking the shapes of test dataset\n",
    "print('Shape of Test data :',Test.shape)\n",
    "print('Shape of Test_Beneficiarydata data :',Test_Beneficiarydata.shape)\n",
    "print('Shape of Test_Inpatientdata data :',Test_Inpatientdata.shape)\n",
    "print('Shape of Test_Outpatientdata data :',Test_Outpatientdata.shape)"
   ]
  },
  {
   "cell_type": "code",
   "execution_count": 6,
   "metadata": {
    "execution": {
     "iopub.execute_input": "2023-04-03T04:10:01.659387Z",
     "iopub.status.busy": "2023-04-03T04:10:01.658512Z",
     "iopub.status.idle": "2023-04-03T04:10:01.703930Z",
     "shell.execute_reply": "2023-04-03T04:10:01.702868Z",
     "shell.execute_reply.started": "2023-04-03T04:10:01.659359Z"
    }
   },
   "outputs": [
    {
     "data": {
      "text/plain": [
       "BeneID                                 0\n",
       "DOB                                    0\n",
       "DOD                                63394\n",
       "Gender                                 0\n",
       "Race                                   0\n",
       "RenalDiseaseIndicator                  0\n",
       "State                                  0\n",
       "County                                 0\n",
       "NoOfMonths_PartACov                    0\n",
       "NoOfMonths_PartBCov                    0\n",
       "ChronicCond_Alzheimer                  0\n",
       "ChronicCond_Heartfailure               0\n",
       "ChronicCond_KidneyDisease              0\n",
       "ChronicCond_Cancer                     0\n",
       "ChronicCond_ObstrPulmonary             0\n",
       "ChronicCond_Depression                 0\n",
       "ChronicCond_Diabetes                   0\n",
       "ChronicCond_IschemicHeart              0\n",
       "ChronicCond_Osteoporasis               0\n",
       "ChronicCond_rheumatoidarthritis        0\n",
       "ChronicCond_stroke                     0\n",
       "IPAnnualReimbursementAmt               0\n",
       "IPAnnualDeductibleAmt                  0\n",
       "OPAnnualReimbursementAmt               0\n",
       "OPAnnualDeductibleAmt                  0\n",
       "dtype: int64"
      ]
     },
     "execution_count": 6,
     "metadata": {},
     "output_type": "execute_result"
    }
   ],
   "source": [
    "#Checking the missing values of beneficiary data.\n",
    "\n",
    "Train_Beneficiarydata.isna().sum()\n",
    "Test_Beneficiarydata.isna().sum()"
   ]
  },
  {
   "cell_type": "code",
   "execution_count": 7,
   "metadata": {
    "execution": {
     "iopub.execute_input": "2023-04-03T04:10:01.705705Z",
     "iopub.status.busy": "2023-04-03T04:10:01.705357Z",
     "iopub.status.idle": "2023-04-03T04:10:01.714921Z",
     "shell.execute_reply": "2023-04-03T04:10:01.713723Z",
     "shell.execute_reply.started": "2023-04-03T04:10:01.705671Z"
    },
    "scrolled": true
   },
   "outputs": [
    {
     "data": {
      "text/plain": [
       "BeneID                             object\n",
       "DOB                                object\n",
       "DOD                                object\n",
       "Gender                              int64\n",
       "Race                                int64\n",
       "RenalDiseaseIndicator              object\n",
       "State                               int64\n",
       "County                              int64\n",
       "NoOfMonths_PartACov                 int64\n",
       "NoOfMonths_PartBCov                 int64\n",
       "ChronicCond_Alzheimer               int64\n",
       "ChronicCond_Heartfailure            int64\n",
       "ChronicCond_KidneyDisease           int64\n",
       "ChronicCond_Cancer                  int64\n",
       "ChronicCond_ObstrPulmonary          int64\n",
       "ChronicCond_Depression              int64\n",
       "ChronicCond_Diabetes                int64\n",
       "ChronicCond_IschemicHeart           int64\n",
       "ChronicCond_Osteoporasis            int64\n",
       "ChronicCond_rheumatoidarthritis     int64\n",
       "ChronicCond_stroke                  int64\n",
       "IPAnnualReimbursementAmt            int64\n",
       "IPAnnualDeductibleAmt               int64\n",
       "OPAnnualReimbursementAmt            int64\n",
       "OPAnnualDeductibleAmt               int64\n",
       "dtype: object"
      ]
     },
     "execution_count": 7,
     "metadata": {},
     "output_type": "execute_result"
    }
   ],
   "source": [
    "#checking data types of each column in beneficiary data\n",
    "\n",
    "Train_Beneficiarydata.dtypes\n",
    "Test_Beneficiarydata.dtypes"
   ]
  },
  {
   "cell_type": "code",
   "execution_count": 8,
   "metadata": {
    "execution": {
     "iopub.execute_input": "2023-04-03T04:10:01.717232Z",
     "iopub.status.busy": "2023-04-03T04:10:01.716494Z",
     "iopub.status.idle": "2023-04-03T04:10:01.745630Z",
     "shell.execute_reply": "2023-04-03T04:10:01.744712Z",
     "shell.execute_reply.started": "2023-04-03T04:10:01.717196Z"
    }
   },
   "outputs": [
    {
     "data": {
      "text/html": [
       "<div>\n",
       "<style scoped>\n",
       "    .dataframe tbody tr th:only-of-type {\n",
       "        vertical-align: middle;\n",
       "    }\n",
       "\n",
       "    .dataframe tbody tr th {\n",
       "        vertical-align: top;\n",
       "    }\n",
       "\n",
       "    .dataframe thead th {\n",
       "        text-align: right;\n",
       "    }\n",
       "</style>\n",
       "<table border=\"1\" class=\"dataframe\">\n",
       "  <thead>\n",
       "    <tr style=\"text-align: right;\">\n",
       "      <th></th>\n",
       "      <th>BeneID</th>\n",
       "      <th>DOB</th>\n",
       "      <th>DOD</th>\n",
       "      <th>Gender</th>\n",
       "      <th>Race</th>\n",
       "      <th>RenalDiseaseIndicator</th>\n",
       "      <th>State</th>\n",
       "      <th>County</th>\n",
       "      <th>NoOfMonths_PartACov</th>\n",
       "      <th>NoOfMonths_PartBCov</th>\n",
       "      <th>...</th>\n",
       "      <th>ChronicCond_Depression</th>\n",
       "      <th>ChronicCond_Diabetes</th>\n",
       "      <th>ChronicCond_IschemicHeart</th>\n",
       "      <th>ChronicCond_Osteoporasis</th>\n",
       "      <th>ChronicCond_rheumatoidarthritis</th>\n",
       "      <th>ChronicCond_stroke</th>\n",
       "      <th>IPAnnualReimbursementAmt</th>\n",
       "      <th>IPAnnualDeductibleAmt</th>\n",
       "      <th>OPAnnualReimbursementAmt</th>\n",
       "      <th>OPAnnualDeductibleAmt</th>\n",
       "    </tr>\n",
       "  </thead>\n",
       "  <tbody>\n",
       "    <tr>\n",
       "      <th>0</th>\n",
       "      <td>BENE11001</td>\n",
       "      <td>1943-01-01</td>\n",
       "      <td>NaN</td>\n",
       "      <td>1</td>\n",
       "      <td>1</td>\n",
       "      <td>0</td>\n",
       "      <td>39</td>\n",
       "      <td>230</td>\n",
       "      <td>12</td>\n",
       "      <td>12</td>\n",
       "      <td>...</td>\n",
       "      <td>1</td>\n",
       "      <td>1</td>\n",
       "      <td>1</td>\n",
       "      <td>2</td>\n",
       "      <td>1</td>\n",
       "      <td>1</td>\n",
       "      <td>36000</td>\n",
       "      <td>3204</td>\n",
       "      <td>60</td>\n",
       "      <td>70</td>\n",
       "    </tr>\n",
       "    <tr>\n",
       "      <th>1</th>\n",
       "      <td>BENE11002</td>\n",
       "      <td>1936-09-01</td>\n",
       "      <td>NaN</td>\n",
       "      <td>2</td>\n",
       "      <td>1</td>\n",
       "      <td>0</td>\n",
       "      <td>39</td>\n",
       "      <td>280</td>\n",
       "      <td>12</td>\n",
       "      <td>12</td>\n",
       "      <td>...</td>\n",
       "      <td>2</td>\n",
       "      <td>2</td>\n",
       "      <td>2</td>\n",
       "      <td>2</td>\n",
       "      <td>2</td>\n",
       "      <td>2</td>\n",
       "      <td>0</td>\n",
       "      <td>0</td>\n",
       "      <td>30</td>\n",
       "      <td>50</td>\n",
       "    </tr>\n",
       "    <tr>\n",
       "      <th>2</th>\n",
       "      <td>BENE11003</td>\n",
       "      <td>1936-08-01</td>\n",
       "      <td>NaN</td>\n",
       "      <td>1</td>\n",
       "      <td>1</td>\n",
       "      <td>0</td>\n",
       "      <td>52</td>\n",
       "      <td>590</td>\n",
       "      <td>12</td>\n",
       "      <td>12</td>\n",
       "      <td>...</td>\n",
       "      <td>2</td>\n",
       "      <td>2</td>\n",
       "      <td>1</td>\n",
       "      <td>2</td>\n",
       "      <td>2</td>\n",
       "      <td>2</td>\n",
       "      <td>0</td>\n",
       "      <td>0</td>\n",
       "      <td>90</td>\n",
       "      <td>40</td>\n",
       "    </tr>\n",
       "    <tr>\n",
       "      <th>3</th>\n",
       "      <td>BENE11004</td>\n",
       "      <td>1922-07-01</td>\n",
       "      <td>NaN</td>\n",
       "      <td>1</td>\n",
       "      <td>1</td>\n",
       "      <td>0</td>\n",
       "      <td>39</td>\n",
       "      <td>270</td>\n",
       "      <td>12</td>\n",
       "      <td>12</td>\n",
       "      <td>...</td>\n",
       "      <td>2</td>\n",
       "      <td>1</td>\n",
       "      <td>1</td>\n",
       "      <td>1</td>\n",
       "      <td>1</td>\n",
       "      <td>2</td>\n",
       "      <td>0</td>\n",
       "      <td>0</td>\n",
       "      <td>1810</td>\n",
       "      <td>760</td>\n",
       "    </tr>\n",
       "    <tr>\n",
       "      <th>4</th>\n",
       "      <td>BENE11005</td>\n",
       "      <td>1935-09-01</td>\n",
       "      <td>NaN</td>\n",
       "      <td>1</td>\n",
       "      <td>1</td>\n",
       "      <td>0</td>\n",
       "      <td>24</td>\n",
       "      <td>680</td>\n",
       "      <td>12</td>\n",
       "      <td>12</td>\n",
       "      <td>...</td>\n",
       "      <td>2</td>\n",
       "      <td>1</td>\n",
       "      <td>2</td>\n",
       "      <td>2</td>\n",
       "      <td>2</td>\n",
       "      <td>2</td>\n",
       "      <td>0</td>\n",
       "      <td>0</td>\n",
       "      <td>1790</td>\n",
       "      <td>1200</td>\n",
       "    </tr>\n",
       "  </tbody>\n",
       "</table>\n",
       "<p>5 rows × 25 columns</p>\n",
       "</div>"
      ],
      "text/plain": [
       "      BeneID         DOB  DOD  Gender  Race RenalDiseaseIndicator  State  \\\n",
       "0  BENE11001  1943-01-01  NaN       1     1                     0     39   \n",
       "1  BENE11002  1936-09-01  NaN       2     1                     0     39   \n",
       "2  BENE11003  1936-08-01  NaN       1     1                     0     52   \n",
       "3  BENE11004  1922-07-01  NaN       1     1                     0     39   \n",
       "4  BENE11005  1935-09-01  NaN       1     1                     0     24   \n",
       "\n",
       "   County  NoOfMonths_PartACov  NoOfMonths_PartBCov  ...  \\\n",
       "0     230                   12                   12  ...   \n",
       "1     280                   12                   12  ...   \n",
       "2     590                   12                   12  ...   \n",
       "3     270                   12                   12  ...   \n",
       "4     680                   12                   12  ...   \n",
       "\n",
       "   ChronicCond_Depression  ChronicCond_Diabetes  ChronicCond_IschemicHeart  \\\n",
       "0                       1                     1                          1   \n",
       "1                       2                     2                          2   \n",
       "2                       2                     2                          1   \n",
       "3                       2                     1                          1   \n",
       "4                       2                     1                          2   \n",
       "\n",
       "   ChronicCond_Osteoporasis  ChronicCond_rheumatoidarthritis  \\\n",
       "0                         2                                1   \n",
       "1                         2                                2   \n",
       "2                         2                                2   \n",
       "3                         1                                1   \n",
       "4                         2                                2   \n",
       "\n",
       "   ChronicCond_stroke  IPAnnualReimbursementAmt  IPAnnualDeductibleAmt  \\\n",
       "0                   1                     36000                   3204   \n",
       "1                   2                         0                      0   \n",
       "2                   2                         0                      0   \n",
       "3                   2                         0                      0   \n",
       "4                   2                         0                      0   \n",
       "\n",
       "   OPAnnualReimbursementAmt  OPAnnualDeductibleAmt  \n",
       "0                        60                     70  \n",
       "1                        30                     50  \n",
       "2                        90                     40  \n",
       "3                      1810                    760  \n",
       "4                      1790                   1200  \n",
       "\n",
       "[5 rows x 25 columns]"
      ]
     },
     "execution_count": 8,
     "metadata": {},
     "output_type": "execute_result"
    }
   ],
   "source": [
    "Train_Beneficiarydata.head(5)"
   ]
  },
  {
   "cell_type": "code",
   "execution_count": 9,
   "metadata": {
    "execution": {
     "iopub.execute_input": "2023-04-03T04:10:01.747559Z",
     "iopub.status.busy": "2023-04-03T04:10:01.747218Z",
     "iopub.status.idle": "2023-04-03T04:10:01.817813Z",
     "shell.execute_reply": "2023-04-03T04:10:01.816785Z",
     "shell.execute_reply.started": "2023-04-03T04:10:01.747525Z"
    }
   },
   "outputs": [],
   "source": [
    "#Replacing 2 with 0 for chronic conditions ,that means chronic condition No is 0 and yes is 1 - in beneficiary data\n",
    "\n",
    "Train_Beneficiarydata = Train_Beneficiarydata.replace({'ChronicCond_Alzheimer': 2, 'ChronicCond_Heartfailure': 2, 'ChronicCond_KidneyDisease': 2,\n",
    "                           'ChronicCond_Cancer': 2, 'ChronicCond_ObstrPulmonary': 2, 'ChronicCond_Depression': 2, \n",
    "                           'ChronicCond_Diabetes': 2, 'ChronicCond_IschemicHeart': 2, 'ChronicCond_Osteoporasis': 2, \n",
    "                           'ChronicCond_rheumatoidarthritis': 2, 'ChronicCond_stroke': 2 }, 0)\n",
    "\n",
    "Train_Beneficiarydata = Train_Beneficiarydata.replace({'RenalDiseaseIndicator': 'Y'}, 1)\n",
    "\n",
    "Test_Beneficiarydata = Test_Beneficiarydata.replace({'ChronicCond_Alzheimer': 2, 'ChronicCond_Heartfailure': 2, 'ChronicCond_KidneyDisease': 2,\n",
    "                           'ChronicCond_Cancer': 2, 'ChronicCond_ObstrPulmonary': 2, 'ChronicCond_Depression': 2, \n",
    "                           'ChronicCond_Diabetes': 2, 'ChronicCond_IschemicHeart': 2, 'ChronicCond_Osteoporasis': 2, \n",
    "                           'ChronicCond_rheumatoidarthritis': 2, 'ChronicCond_stroke': 2 }, 0)\n",
    "\n",
    "Test_Beneficiarydata = Test_Beneficiarydata.replace({'RenalDiseaseIndicator': 'Y'}, 1)"
   ]
  },
  {
   "cell_type": "code",
   "execution_count": 10,
   "metadata": {
    "execution": {
     "iopub.execute_input": "2023-04-03T04:10:01.823205Z",
     "iopub.status.busy": "2023-04-03T04:10:01.822888Z",
     "iopub.status.idle": "2023-04-03T04:10:01.842412Z",
     "shell.execute_reply": "2023-04-03T04:10:01.841103Z",
     "shell.execute_reply.started": "2023-04-03T04:10:01.823177Z"
    }
   },
   "outputs": [
    {
     "data": {
      "text/html": [
       "<div>\n",
       "<style scoped>\n",
       "    .dataframe tbody tr th:only-of-type {\n",
       "        vertical-align: middle;\n",
       "    }\n",
       "\n",
       "    .dataframe tbody tr th {\n",
       "        vertical-align: top;\n",
       "    }\n",
       "\n",
       "    .dataframe thead th {\n",
       "        text-align: right;\n",
       "    }\n",
       "</style>\n",
       "<table border=\"1\" class=\"dataframe\">\n",
       "  <thead>\n",
       "    <tr style=\"text-align: right;\">\n",
       "      <th></th>\n",
       "      <th>BeneID</th>\n",
       "      <th>DOB</th>\n",
       "      <th>DOD</th>\n",
       "      <th>Gender</th>\n",
       "      <th>Race</th>\n",
       "      <th>RenalDiseaseIndicator</th>\n",
       "      <th>State</th>\n",
       "      <th>County</th>\n",
       "      <th>NoOfMonths_PartACov</th>\n",
       "      <th>NoOfMonths_PartBCov</th>\n",
       "      <th>...</th>\n",
       "      <th>ChronicCond_Depression</th>\n",
       "      <th>ChronicCond_Diabetes</th>\n",
       "      <th>ChronicCond_IschemicHeart</th>\n",
       "      <th>ChronicCond_Osteoporasis</th>\n",
       "      <th>ChronicCond_rheumatoidarthritis</th>\n",
       "      <th>ChronicCond_stroke</th>\n",
       "      <th>IPAnnualReimbursementAmt</th>\n",
       "      <th>IPAnnualDeductibleAmt</th>\n",
       "      <th>OPAnnualReimbursementAmt</th>\n",
       "      <th>OPAnnualDeductibleAmt</th>\n",
       "    </tr>\n",
       "  </thead>\n",
       "  <tbody>\n",
       "    <tr>\n",
       "      <th>0</th>\n",
       "      <td>BENE11001</td>\n",
       "      <td>1943-01-01</td>\n",
       "      <td>NaN</td>\n",
       "      <td>1</td>\n",
       "      <td>1</td>\n",
       "      <td>0</td>\n",
       "      <td>39</td>\n",
       "      <td>230</td>\n",
       "      <td>12</td>\n",
       "      <td>12</td>\n",
       "      <td>...</td>\n",
       "      <td>1</td>\n",
       "      <td>1</td>\n",
       "      <td>1</td>\n",
       "      <td>0</td>\n",
       "      <td>1</td>\n",
       "      <td>1</td>\n",
       "      <td>36000</td>\n",
       "      <td>3204</td>\n",
       "      <td>60</td>\n",
       "      <td>70</td>\n",
       "    </tr>\n",
       "    <tr>\n",
       "      <th>1</th>\n",
       "      <td>BENE11007</td>\n",
       "      <td>1940-09-01</td>\n",
       "      <td>2009-12-01</td>\n",
       "      <td>1</td>\n",
       "      <td>2</td>\n",
       "      <td>0</td>\n",
       "      <td>45</td>\n",
       "      <td>610</td>\n",
       "      <td>12</td>\n",
       "      <td>12</td>\n",
       "      <td>...</td>\n",
       "      <td>0</td>\n",
       "      <td>1</td>\n",
       "      <td>0</td>\n",
       "      <td>1</td>\n",
       "      <td>1</td>\n",
       "      <td>0</td>\n",
       "      <td>0</td>\n",
       "      <td>0</td>\n",
       "      <td>1490</td>\n",
       "      <td>160</td>\n",
       "    </tr>\n",
       "    <tr>\n",
       "      <th>2</th>\n",
       "      <td>BENE11010</td>\n",
       "      <td>1936-07-01</td>\n",
       "      <td>NaN</td>\n",
       "      <td>2</td>\n",
       "      <td>1</td>\n",
       "      <td>0</td>\n",
       "      <td>41</td>\n",
       "      <td>30</td>\n",
       "      <td>12</td>\n",
       "      <td>12</td>\n",
       "      <td>...</td>\n",
       "      <td>0</td>\n",
       "      <td>1</td>\n",
       "      <td>1</td>\n",
       "      <td>1</td>\n",
       "      <td>0</td>\n",
       "      <td>0</td>\n",
       "      <td>0</td>\n",
       "      <td>0</td>\n",
       "      <td>1170</td>\n",
       "      <td>660</td>\n",
       "    </tr>\n",
       "    <tr>\n",
       "      <th>3</th>\n",
       "      <td>BENE11011</td>\n",
       "      <td>1914-03-01</td>\n",
       "      <td>NaN</td>\n",
       "      <td>2</td>\n",
       "      <td>2</td>\n",
       "      <td>0</td>\n",
       "      <td>1</td>\n",
       "      <td>360</td>\n",
       "      <td>12</td>\n",
       "      <td>12</td>\n",
       "      <td>...</td>\n",
       "      <td>1</td>\n",
       "      <td>1</td>\n",
       "      <td>0</td>\n",
       "      <td>0</td>\n",
       "      <td>1</td>\n",
       "      <td>1</td>\n",
       "      <td>5000</td>\n",
       "      <td>1068</td>\n",
       "      <td>250</td>\n",
       "      <td>320</td>\n",
       "    </tr>\n",
       "    <tr>\n",
       "      <th>4</th>\n",
       "      <td>BENE11014</td>\n",
       "      <td>1938-04-01</td>\n",
       "      <td>NaN</td>\n",
       "      <td>2</td>\n",
       "      <td>1</td>\n",
       "      <td>1</td>\n",
       "      <td>45</td>\n",
       "      <td>780</td>\n",
       "      <td>12</td>\n",
       "      <td>12</td>\n",
       "      <td>...</td>\n",
       "      <td>1</td>\n",
       "      <td>0</td>\n",
       "      <td>1</td>\n",
       "      <td>0</td>\n",
       "      <td>0</td>\n",
       "      <td>0</td>\n",
       "      <td>21260</td>\n",
       "      <td>2136</td>\n",
       "      <td>120</td>\n",
       "      <td>100</td>\n",
       "    </tr>\n",
       "  </tbody>\n",
       "</table>\n",
       "<p>5 rows × 25 columns</p>\n",
       "</div>"
      ],
      "text/plain": [
       "      BeneID         DOB         DOD  Gender  Race RenalDiseaseIndicator  \\\n",
       "0  BENE11001  1943-01-01         NaN       1     1                     0   \n",
       "1  BENE11007  1940-09-01  2009-12-01       1     2                     0   \n",
       "2  BENE11010  1936-07-01         NaN       2     1                     0   \n",
       "3  BENE11011  1914-03-01         NaN       2     2                     0   \n",
       "4  BENE11014  1938-04-01         NaN       2     1                     1   \n",
       "\n",
       "   State  County  NoOfMonths_PartACov  NoOfMonths_PartBCov  ...  \\\n",
       "0     39     230                   12                   12  ...   \n",
       "1     45     610                   12                   12  ...   \n",
       "2     41      30                   12                   12  ...   \n",
       "3      1     360                   12                   12  ...   \n",
       "4     45     780                   12                   12  ...   \n",
       "\n",
       "   ChronicCond_Depression  ChronicCond_Diabetes  ChronicCond_IschemicHeart  \\\n",
       "0                       1                     1                          1   \n",
       "1                       0                     1                          0   \n",
       "2                       0                     1                          1   \n",
       "3                       1                     1                          0   \n",
       "4                       1                     0                          1   \n",
       "\n",
       "   ChronicCond_Osteoporasis  ChronicCond_rheumatoidarthritis  \\\n",
       "0                         0                                1   \n",
       "1                         1                                1   \n",
       "2                         1                                0   \n",
       "3                         0                                1   \n",
       "4                         0                                0   \n",
       "\n",
       "   ChronicCond_stroke  IPAnnualReimbursementAmt  IPAnnualDeductibleAmt  \\\n",
       "0                   1                     36000                   3204   \n",
       "1                   0                         0                      0   \n",
       "2                   0                         0                      0   \n",
       "3                   1                      5000                   1068   \n",
       "4                   0                     21260                   2136   \n",
       "\n",
       "   OPAnnualReimbursementAmt  OPAnnualDeductibleAmt  \n",
       "0                        60                     70  \n",
       "1                      1490                    160  \n",
       "2                      1170                    660  \n",
       "3                       250                    320  \n",
       "4                       120                    100  \n",
       "\n",
       "[5 rows x 25 columns]"
      ]
     },
     "execution_count": 10,
     "metadata": {},
     "output_type": "execute_result"
    }
   ],
   "source": [
    "Train_Beneficiarydata.head(5)\n",
    "Test_Beneficiarydata.head(5)"
   ]
  },
  {
   "cell_type": "markdown",
   "metadata": {},
   "source": [
    "**Add Age of Person based on his/her DOD(Date of death ) and DOB (Date of Birth)**"
   ]
  },
  {
   "cell_type": "code",
   "execution_count": 11,
   "metadata": {
    "execution": {
     "iopub.execute_input": "2023-04-03T04:10:01.844829Z",
     "iopub.status.busy": "2023-04-03T04:10:01.844127Z",
     "iopub.status.idle": "2023-04-03T04:10:01.919180Z",
     "shell.execute_reply": "2023-04-03T04:10:01.918216Z",
     "shell.execute_reply.started": "2023-04-03T04:10:01.844785Z"
    }
   },
   "outputs": [],
   "source": [
    "## Lets Create Age column to the dataset\n",
    "\n",
    "Train_Beneficiarydata['DOB'] = pd.to_datetime(Train_Beneficiarydata['DOB'] , format = '%Y-%m-%d')\n",
    "Train_Beneficiarydata['DOD'] = pd.to_datetime(Train_Beneficiarydata['DOD'],format = '%Y-%m-%d',errors='ignore')\n",
    "Train_Beneficiarydata['Age'] = round(((Train_Beneficiarydata['DOD'] - Train_Beneficiarydata['DOB']).dt.days)/365)\n",
    "\n",
    "\n",
    "Test_Beneficiarydata['DOB'] = pd.to_datetime(Test_Beneficiarydata['DOB'] , format = '%Y-%m-%d')\n",
    "Test_Beneficiarydata['DOD'] = pd.to_datetime(Test_Beneficiarydata['DOD'],format = '%Y-%m-%d',errors='ignore')\n",
    "Test_Beneficiarydata['Age'] = round(((Test_Beneficiarydata['DOD'] - Test_Beneficiarydata['DOB']).dt.days)/365)"
   ]
  },
  {
   "cell_type": "code",
   "execution_count": 12,
   "metadata": {
    "execution": {
     "iopub.execute_input": "2023-04-03T04:10:01.921181Z",
     "iopub.status.busy": "2023-04-03T04:10:01.920794Z",
     "iopub.status.idle": "2023-04-03T04:10:01.936755Z",
     "shell.execute_reply": "2023-04-03T04:10:01.935865Z",
     "shell.execute_reply.started": "2023-04-03T04:10:01.921145Z"
    }
   },
   "outputs": [],
   "source": [
    "## As we see that last DOD value is 2009-12-01 ,which means Beneficiary Details data is of year 2009.\n",
    "## so we will calculate age of other benficiaries for year 2009.\n",
    "\n",
    "Train_Beneficiarydata.Age.fillna(round(((pd.to_datetime('2009-12-01' , format = '%Y-%m-%d') - Train_Beneficiarydata['DOB']).dt.days)/365),\n",
    "                                 inplace=True)\n",
    "\n",
    "\n",
    "Test_Beneficiarydata.Age.fillna(round(((pd.to_datetime('2009-12-01' , format = '%Y-%m-%d') - Test_Beneficiarydata['DOB']).dt.days)/365),\n",
    "                                 inplace=True)"
   ]
  },
  {
   "cell_type": "code",
   "execution_count": 13,
   "metadata": {
    "execution": {
     "iopub.execute_input": "2023-04-03T04:10:01.938743Z",
     "iopub.status.busy": "2023-04-03T04:10:01.938396Z",
     "iopub.status.idle": "2023-04-03T04:10:01.961323Z",
     "shell.execute_reply": "2023-04-03T04:10:01.959975Z",
     "shell.execute_reply.started": "2023-04-03T04:10:01.938708Z"
    }
   },
   "outputs": [
    {
     "data": {
      "text/html": [
       "<div>\n",
       "<style scoped>\n",
       "    .dataframe tbody tr th:only-of-type {\n",
       "        vertical-align: middle;\n",
       "    }\n",
       "\n",
       "    .dataframe tbody tr th {\n",
       "        vertical-align: top;\n",
       "    }\n",
       "\n",
       "    .dataframe thead th {\n",
       "        text-align: right;\n",
       "    }\n",
       "</style>\n",
       "<table border=\"1\" class=\"dataframe\">\n",
       "  <thead>\n",
       "    <tr style=\"text-align: right;\">\n",
       "      <th></th>\n",
       "      <th>BeneID</th>\n",
       "      <th>DOB</th>\n",
       "      <th>DOD</th>\n",
       "      <th>Gender</th>\n",
       "      <th>Race</th>\n",
       "      <th>RenalDiseaseIndicator</th>\n",
       "      <th>State</th>\n",
       "      <th>County</th>\n",
       "      <th>NoOfMonths_PartACov</th>\n",
       "      <th>NoOfMonths_PartBCov</th>\n",
       "      <th>...</th>\n",
       "      <th>ChronicCond_Diabetes</th>\n",
       "      <th>ChronicCond_IschemicHeart</th>\n",
       "      <th>ChronicCond_Osteoporasis</th>\n",
       "      <th>ChronicCond_rheumatoidarthritis</th>\n",
       "      <th>ChronicCond_stroke</th>\n",
       "      <th>IPAnnualReimbursementAmt</th>\n",
       "      <th>IPAnnualDeductibleAmt</th>\n",
       "      <th>OPAnnualReimbursementAmt</th>\n",
       "      <th>OPAnnualDeductibleAmt</th>\n",
       "      <th>Age</th>\n",
       "    </tr>\n",
       "  </thead>\n",
       "  <tbody>\n",
       "    <tr>\n",
       "      <th>0</th>\n",
       "      <td>BENE11001</td>\n",
       "      <td>1943-01-01</td>\n",
       "      <td>NaT</td>\n",
       "      <td>1</td>\n",
       "      <td>1</td>\n",
       "      <td>0</td>\n",
       "      <td>39</td>\n",
       "      <td>230</td>\n",
       "      <td>12</td>\n",
       "      <td>12</td>\n",
       "      <td>...</td>\n",
       "      <td>1</td>\n",
       "      <td>1</td>\n",
       "      <td>0</td>\n",
       "      <td>1</td>\n",
       "      <td>1</td>\n",
       "      <td>36000</td>\n",
       "      <td>3204</td>\n",
       "      <td>60</td>\n",
       "      <td>70</td>\n",
       "      <td>67.0</td>\n",
       "    </tr>\n",
       "    <tr>\n",
       "      <th>1</th>\n",
       "      <td>BENE11007</td>\n",
       "      <td>1940-09-01</td>\n",
       "      <td>2009-12-01</td>\n",
       "      <td>1</td>\n",
       "      <td>2</td>\n",
       "      <td>0</td>\n",
       "      <td>45</td>\n",
       "      <td>610</td>\n",
       "      <td>12</td>\n",
       "      <td>12</td>\n",
       "      <td>...</td>\n",
       "      <td>1</td>\n",
       "      <td>0</td>\n",
       "      <td>1</td>\n",
       "      <td>1</td>\n",
       "      <td>0</td>\n",
       "      <td>0</td>\n",
       "      <td>0</td>\n",
       "      <td>1490</td>\n",
       "      <td>160</td>\n",
       "      <td>69.0</td>\n",
       "    </tr>\n",
       "  </tbody>\n",
       "</table>\n",
       "<p>2 rows × 26 columns</p>\n",
       "</div>"
      ],
      "text/plain": [
       "      BeneID        DOB        DOD  Gender  Race RenalDiseaseIndicator  State  \\\n",
       "0  BENE11001 1943-01-01        NaT       1     1                     0     39   \n",
       "1  BENE11007 1940-09-01 2009-12-01       1     2                     0     45   \n",
       "\n",
       "   County  NoOfMonths_PartACov  NoOfMonths_PartBCov  ...  \\\n",
       "0     230                   12                   12  ...   \n",
       "1     610                   12                   12  ...   \n",
       "\n",
       "   ChronicCond_Diabetes  ChronicCond_IschemicHeart  ChronicCond_Osteoporasis  \\\n",
       "0                     1                          1                         0   \n",
       "1                     1                          0                         1   \n",
       "\n",
       "   ChronicCond_rheumatoidarthritis  ChronicCond_stroke  \\\n",
       "0                                1                   1   \n",
       "1                                1                   0   \n",
       "\n",
       "   IPAnnualReimbursementAmt  IPAnnualDeductibleAmt  OPAnnualReimbursementAmt  \\\n",
       "0                     36000                   3204                        60   \n",
       "1                         0                      0                      1490   \n",
       "\n",
       "   OPAnnualDeductibleAmt   Age  \n",
       "0                     70  67.0  \n",
       "1                    160  69.0  \n",
       "\n",
       "[2 rows x 26 columns]"
      ]
     },
     "execution_count": 13,
     "metadata": {},
     "output_type": "execute_result"
    }
   ],
   "source": [
    "Train_Beneficiarydata.head(2)\n",
    "Test_Beneficiarydata.head(2)"
   ]
  },
  {
   "cell_type": "markdown",
   "metadata": {},
   "source": [
    "**Add Flag column 'WhetherDead' using DOD values to tell whether beneficiary is dead on not**"
   ]
  },
  {
   "cell_type": "code",
   "execution_count": 14,
   "metadata": {
    "execution": {
     "iopub.execute_input": "2023-04-03T04:10:01.963571Z",
     "iopub.status.busy": "2023-04-03T04:10:01.963217Z",
     "iopub.status.idle": "2023-04-03T04:10:01.977137Z",
     "shell.execute_reply": "2023-04-03T04:10:01.976282Z",
     "shell.execute_reply.started": "2023-04-03T04:10:01.963534Z"
    }
   },
   "outputs": [],
   "source": [
    "#Lets create a new variable 'WhetherDead' with flag 1 means Dead and 0 means not Dead\n",
    "\n",
    "Train_Beneficiarydata.loc[Train_Beneficiarydata.DOD.isna(),'WhetherDead']=0\n",
    "Train_Beneficiarydata.loc[Train_Beneficiarydata.DOD.notna(),'WhetherDead']=1\n",
    "\n",
    "\n",
    "Test_Beneficiarydata.loc[Test_Beneficiarydata.DOD.isna(),'WhetherDead']=0\n",
    "Test_Beneficiarydata.loc[Test_Beneficiarydata.DOD.notna(),'WhetherDead']=1"
   ]
  },
  {
   "cell_type": "code",
   "execution_count": 15,
   "metadata": {
    "execution": {
     "iopub.execute_input": "2023-04-03T04:10:01.978917Z",
     "iopub.status.busy": "2023-04-03T04:10:01.978570Z",
     "iopub.status.idle": "2023-04-03T04:10:02.026726Z",
     "shell.execute_reply": "2023-04-03T04:10:02.025690Z",
     "shell.execute_reply.started": "2023-04-03T04:10:01.978882Z"
    }
   },
   "outputs": [
    {
     "data": {
      "text/plain": [
       "BeneID                       0\n",
       "ClaimID                      0\n",
       "ClaimStartDt                 0\n",
       "ClaimEndDt                   0\n",
       "Provider                     0\n",
       "InscClaimAmtReimbursed       0\n",
       "AttendingPhysician          31\n",
       "OperatingPhysician        3962\n",
       "OtherPhysician            8538\n",
       "AdmissionDt                  0\n",
       "ClmAdmitDiagnosisCode        0\n",
       "DeductibleAmtPaid          196\n",
       "DischargeDt                  0\n",
       "DiagnosisGroupCode           0\n",
       "ClmDiagnosisCode_1           0\n",
       "ClmDiagnosisCode_2          54\n",
       "ClmDiagnosisCode_3         169\n",
       "ClmDiagnosisCode_4         404\n",
       "ClmDiagnosisCode_5         719\n",
       "ClmDiagnosisCode_6        1197\n",
       "ClmDiagnosisCode_7        1736\n",
       "ClmDiagnosisCode_8        2360\n",
       "ClmDiagnosisCode_9        3238\n",
       "ClmDiagnosisCode_10       8664\n",
       "ClmProcedureCode_1        4118\n",
       "ClmProcedureCode_2        8297\n",
       "ClmProcedureCode_3        9328\n",
       "ClmProcedureCode_4        9522\n",
       "ClmProcedureCode_5        9549\n",
       "ClmProcedureCode_6        9551\n",
       "dtype: int64"
      ]
     },
     "execution_count": 15,
     "metadata": {},
     "output_type": "execute_result"
    }
   ],
   "source": [
    "#Lets check missing values in each column in inpatient data\n",
    "Train_Inpatientdata.isna().sum()\n",
    "\n",
    "Test_Inpatientdata.isna().sum()"
   ]
  },
  {
   "cell_type": "markdown",
   "metadata": {},
   "source": [
    "**Create new column 'AdmitForDays' indicating number of days patient was admitted in hospital**"
   ]
  },
  {
   "cell_type": "code",
   "execution_count": 16,
   "metadata": {
    "execution": {
     "iopub.execute_input": "2023-04-03T04:10:02.028692Z",
     "iopub.status.busy": "2023-04-03T04:10:02.028263Z",
     "iopub.status.idle": "2023-04-03T04:10:02.074593Z",
     "shell.execute_reply": "2023-04-03T04:10:02.073478Z",
     "shell.execute_reply.started": "2023-04-03T04:10:02.028652Z"
    }
   },
   "outputs": [],
   "source": [
    "## As patient can be admitted for only for 1 day,we will add 1 to the difference of Discharge Date and Admission Date \n",
    "\n",
    "Train_Inpatientdata['AdmissionDt'] = pd.to_datetime(Train_Inpatientdata['AdmissionDt'] , format = '%Y-%m-%d')\n",
    "Train_Inpatientdata['DischargeDt'] = pd.to_datetime(Train_Inpatientdata['DischargeDt'],format = '%Y-%m-%d')\n",
    "Train_Inpatientdata['AdmitForDays'] = ((Train_Inpatientdata['DischargeDt'] - Train_Inpatientdata['AdmissionDt']).dt.days)+1\n",
    "\n",
    "\n",
    "Test_Inpatientdata['AdmissionDt'] = pd.to_datetime(Test_Inpatientdata['AdmissionDt'] , format = '%Y-%m-%d')\n",
    "Test_Inpatientdata['DischargeDt'] = pd.to_datetime(Test_Inpatientdata['DischargeDt'],format = '%Y-%m-%d')\n",
    "Test_Inpatientdata['AdmitForDays'] = ((Test_Inpatientdata['DischargeDt'] - Test_Inpatientdata['AdmissionDt']).dt.days)+1"
   ]
  },
  {
   "cell_type": "code",
   "execution_count": 17,
   "metadata": {
    "execution": {
     "iopub.execute_input": "2023-04-03T04:10:02.076765Z",
     "iopub.status.busy": "2023-04-03T04:10:02.076314Z",
     "iopub.status.idle": "2023-04-03T04:10:02.088928Z",
     "shell.execute_reply": "2023-04-03T04:10:02.087518Z",
     "shell.execute_reply.started": "2023-04-03T04:10:02.076726Z"
    }
   },
   "outputs": [
    {
     "name": "stdout",
     "output_type": "stream",
     "text": [
      "Min AdmitForDays Train:-  1\n",
      "Max AdmitForDays Train:-  36\n",
      "Min AdmitForDays Test:-  1\n",
      "Max AdmitForDays Test:-  36\n"
     ]
    },
    {
     "data": {
      "text/plain": [
       "0"
      ]
     },
     "execution_count": 17,
     "metadata": {},
     "output_type": "execute_result"
    }
   ],
   "source": [
    "## Lets check Min and Max values of AdmitforDays column in Train and Test.\n",
    "print('Min AdmitForDays Train:- ',Train_Inpatientdata.AdmitForDays.min())\n",
    "print('Max AdmitForDays Train:- ',Train_Inpatientdata.AdmitForDays.max())\n",
    "Train_Inpatientdata.AdmitForDays.isnull().sum()   #Check Null values.\n",
    "\n",
    "print('Min AdmitForDays Test:- ',Test_Inpatientdata.AdmitForDays.min())\n",
    "print('Max AdmitForDays Test:- ',Test_Inpatientdata.AdmitForDays.max())\n",
    "Test_Inpatientdata.AdmitForDays.isnull().sum()   #Check Null values."
   ]
  },
  {
   "cell_type": "code",
   "execution_count": 18,
   "metadata": {
    "execution": {
     "iopub.execute_input": "2023-04-03T04:10:02.091798Z",
     "iopub.status.busy": "2023-04-03T04:10:02.090961Z",
     "iopub.status.idle": "2023-04-03T04:10:02.493469Z",
     "shell.execute_reply": "2023-04-03T04:10:02.492348Z",
     "shell.execute_reply.started": "2023-04-03T04:10:02.091757Z"
    }
   },
   "outputs": [
    {
     "data": {
      "text/plain": [
       "BeneID                         0\n",
       "ClaimID                        0\n",
       "ClaimStartDt                   0\n",
       "ClaimEndDt                     0\n",
       "Provider                       0\n",
       "InscClaimAmtReimbursed         0\n",
       "AttendingPhysician           316\n",
       "OperatingPhysician        104237\n",
       "OtherPhysician             78222\n",
       "ClmDiagnosisCode_1          2578\n",
       "ClmDiagnosisCode_2         47731\n",
       "ClmDiagnosisCode_3         76575\n",
       "ClmDiagnosisCode_4         95371\n",
       "ClmDiagnosisCode_5        107875\n",
       "ClmDiagnosisCode_6        114035\n",
       "ClmDiagnosisCode_7        117871\n",
       "ClmDiagnosisCode_8        120310\n",
       "ClmDiagnosisCode_9        122278\n",
       "ClmDiagnosisCode_10       125578\n",
       "ClmProcedureCode_1        125807\n",
       "ClmProcedureCode_2        125832\n",
       "ClmProcedureCode_3        125839\n",
       "ClmProcedureCode_4        125841\n",
       "ClmProcedureCode_5        125841\n",
       "ClmProcedureCode_6        125841\n",
       "DeductibleAmtPaid              0\n",
       "ClmAdmitDiagnosisCode     100036\n",
       "dtype: int64"
      ]
     },
     "execution_count": 18,
     "metadata": {},
     "output_type": "execute_result"
    }
   ],
   "source": [
    "#Checking the null values of outpatient data\n",
    "Train_Outpatientdata.isna().sum()\n",
    "\n",
    "Test_Outpatientdata.isna().sum()"
   ]
  },
  {
   "cell_type": "code",
   "execution_count": 19,
   "metadata": {
    "execution": {
     "iopub.execute_input": "2023-04-03T04:10:02.495585Z",
     "iopub.status.busy": "2023-04-03T04:10:02.495135Z",
     "iopub.status.idle": "2023-04-03T04:10:02.503919Z",
     "shell.execute_reply": "2023-04-03T04:10:02.502614Z",
     "shell.execute_reply.started": "2023-04-03T04:10:02.495546Z"
    }
   },
   "outputs": [
    {
     "name": "stdout",
     "output_type": "stream",
     "text": [
      "Shape of Train data : (5410, 2)\n",
      "Shape of Train_Beneficiarydata data : (138556, 27)\n",
      "Shape of Train_Inpatientdata data : (40474, 31)\n",
      "Shape of Train_Outpatientdata data : (517737, 27)\n",
      "Shape of Test data : (1353, 1)\n",
      "Shape of Test_Beneficiarydata data : (63968, 27)\n",
      "Shape of Test_Inpatientdata data : (9551, 31)\n",
      "Shape of Test_Outpatientdata data : (125841, 27)\n"
     ]
    }
   ],
   "source": [
    "##Checking the Shape of datasets after adding new variables\n",
    "\n",
    "print('Shape of Train data :',Train.shape)\n",
    "print('Shape of Train_Beneficiarydata data :',Train_Beneficiarydata.shape)\n",
    "print('Shape of Train_Inpatientdata data :',Train_Inpatientdata.shape)\n",
    "print('Shape of Train_Outpatientdata data :',Train_Outpatientdata.shape)\n",
    "\n",
    "print('Shape of Test data :',Test.shape)\n",
    "print('Shape of Test_Beneficiarydata data :',Test_Beneficiarydata.shape)\n",
    "print('Shape of Test_Inpatientdata data :',Test_Inpatientdata.shape)\n",
    "print('Shape of Test_Outpatientdata data :',Test_Outpatientdata.shape)"
   ]
  },
  {
   "cell_type": "markdown",
   "metadata": {},
   "source": [
    "### Data Merging\n"
   ]
  },
  {
   "cell_type": "markdown",
   "metadata": {},
   "source": [
    "As we see columns in inpatient and outpatient data are similar, we will merge this data based on these similar keys using outer join."
   ]
  },
  {
   "cell_type": "code",
   "execution_count": 20,
   "metadata": {
    "execution": {
     "iopub.execute_input": "2023-04-03T04:10:02.505939Z",
     "iopub.status.busy": "2023-04-03T04:10:02.505325Z",
     "iopub.status.idle": "2023-04-03T04:10:02.517299Z",
     "shell.execute_reply": "2023-04-03T04:10:02.516278Z",
     "shell.execute_reply.started": "2023-04-03T04:10:02.505901Z"
    }
   },
   "outputs": [
    {
     "name": "stdout",
     "output_type": "stream",
     "text": [
      "Index(['BeneID', 'ClaimID', 'ClaimStartDt', 'ClaimEndDt', 'Provider',\n",
      "       'InscClaimAmtReimbursed', 'AttendingPhysician', 'OperatingPhysician',\n",
      "       'OtherPhysician', 'ClmDiagnosisCode_1', 'ClmDiagnosisCode_2',\n",
      "       'ClmDiagnosisCode_3', 'ClmDiagnosisCode_4', 'ClmDiagnosisCode_5',\n",
      "       'ClmDiagnosisCode_6', 'ClmDiagnosisCode_7', 'ClmDiagnosisCode_8',\n",
      "       'ClmDiagnosisCode_9', 'ClmDiagnosisCode_10', 'ClmProcedureCode_1',\n",
      "       'ClmProcedureCode_2', 'ClmProcedureCode_3', 'ClmProcedureCode_4',\n",
      "       'ClmProcedureCode_5', 'ClmProcedureCode_6', 'DeductibleAmtPaid',\n",
      "       'ClmAdmitDiagnosisCode'],\n",
      "      dtype='object')\n"
     ]
    }
   ],
   "source": [
    "Key_Column_To_Merge_Outpatient=Train_Outpatientdata.columns\n",
    "print(Key_Column_To_Merge_Outpatient)"
   ]
  },
  {
   "cell_type": "markdown",
   "metadata": {},
   "source": [
    "Merge Inpatient and Outpatient"
   ]
  },
  {
   "cell_type": "code",
   "execution_count": 21,
   "metadata": {
    "execution": {
     "iopub.execute_input": "2023-04-03T04:10:02.519800Z",
     "iopub.status.busy": "2023-04-03T04:10:02.518834Z",
     "iopub.status.idle": "2023-04-03T04:10:04.947782Z",
     "shell.execute_reply": "2023-04-03T04:10:04.946750Z",
     "shell.execute_reply.started": "2023-04-03T04:10:02.519741Z"
    }
   },
   "outputs": [],
   "source": [
    "#We will use all keys in outpatient data as we want to merge and dont want duplicate columns from both tables.\n",
    "\n",
    "Train_Allpatient=pd.merge(Train_Outpatientdata,Train_Inpatientdata,\n",
    "                              left_on=['BeneID', 'ClaimID', 'ClaimStartDt', 'ClaimEndDt', 'Provider',\n",
    "       'InscClaimAmtReimbursed', 'AttendingPhysician', 'OperatingPhysician',\n",
    "       'OtherPhysician', 'ClmDiagnosisCode_1', 'ClmDiagnosisCode_2',\n",
    "       'ClmDiagnosisCode_3', 'ClmDiagnosisCode_4', 'ClmDiagnosisCode_5',\n",
    "       'ClmDiagnosisCode_6', 'ClmDiagnosisCode_7', 'ClmDiagnosisCode_8',\n",
    "       'ClmDiagnosisCode_9', 'ClmDiagnosisCode_10', 'ClmProcedureCode_1',\n",
    "       'ClmProcedureCode_2', 'ClmProcedureCode_3', 'ClmProcedureCode_4',\n",
    "       'ClmProcedureCode_5', 'ClmProcedureCode_6', 'DeductibleAmtPaid',\n",
    "       'ClmAdmitDiagnosisCode'],\n",
    "                              right_on=['BeneID', 'ClaimID', 'ClaimStartDt', 'ClaimEndDt', 'Provider',\n",
    "       'InscClaimAmtReimbursed', 'AttendingPhysician', 'OperatingPhysician',\n",
    "       'OtherPhysician', 'ClmDiagnosisCode_1', 'ClmDiagnosisCode_2',\n",
    "       'ClmDiagnosisCode_3', 'ClmDiagnosisCode_4', 'ClmDiagnosisCode_5',\n",
    "       'ClmDiagnosisCode_6', 'ClmDiagnosisCode_7', 'ClmDiagnosisCode_8',\n",
    "       'ClmDiagnosisCode_9', 'ClmDiagnosisCode_10', 'ClmProcedureCode_1',\n",
    "       'ClmProcedureCode_2', 'ClmProcedureCode_3', 'ClmProcedureCode_4',\n",
    "       'ClmProcedureCode_5', 'ClmProcedureCode_6', 'DeductibleAmtPaid',\n",
    "       'ClmAdmitDiagnosisCode']\n",
    "                              ,how='outer')\n",
    "\n"
   ]
  },
  {
   "cell_type": "code",
   "execution_count": 22,
   "metadata": {
    "execution": {
     "iopub.execute_input": "2023-04-03T04:10:04.949834Z",
     "iopub.status.busy": "2023-04-03T04:10:04.949365Z",
     "iopub.status.idle": "2023-04-03T04:10:05.445962Z",
     "shell.execute_reply": "2023-04-03T04:10:05.444960Z",
     "shell.execute_reply.started": "2023-04-03T04:10:04.949793Z"
    }
   },
   "outputs": [],
   "source": [
    "Test_Allpatient=pd.merge(Test_Outpatientdata,Test_Inpatientdata,\n",
    "                              left_on=['BeneID', 'ClaimID', 'ClaimStartDt', 'ClaimEndDt', 'Provider',\n",
    "       'InscClaimAmtReimbursed', 'AttendingPhysician', 'OperatingPhysician',\n",
    "       'OtherPhysician', 'ClmDiagnosisCode_1', 'ClmDiagnosisCode_2',\n",
    "       'ClmDiagnosisCode_3', 'ClmDiagnosisCode_4', 'ClmDiagnosisCode_5',\n",
    "       'ClmDiagnosisCode_6', 'ClmDiagnosisCode_7', 'ClmDiagnosisCode_8',\n",
    "       'ClmDiagnosisCode_9', 'ClmDiagnosisCode_10', 'ClmProcedureCode_1',\n",
    "       'ClmProcedureCode_2', 'ClmProcedureCode_3', 'ClmProcedureCode_4',\n",
    "       'ClmProcedureCode_5', 'ClmProcedureCode_6', 'DeductibleAmtPaid',\n",
    "       'ClmAdmitDiagnosisCode'],\n",
    "                              right_on=['BeneID', 'ClaimID', 'ClaimStartDt', 'ClaimEndDt', 'Provider',\n",
    "       'InscClaimAmtReimbursed', 'AttendingPhysician', 'OperatingPhysician',\n",
    "       'OtherPhysician', 'ClmDiagnosisCode_1', 'ClmDiagnosisCode_2',\n",
    "       'ClmDiagnosisCode_3', 'ClmDiagnosisCode_4', 'ClmDiagnosisCode_5',\n",
    "       'ClmDiagnosisCode_6', 'ClmDiagnosisCode_7', 'ClmDiagnosisCode_8',\n",
    "       'ClmDiagnosisCode_9', 'ClmDiagnosisCode_10', 'ClmProcedureCode_1',\n",
    "       'ClmProcedureCode_2', 'ClmProcedureCode_3', 'ClmProcedureCode_4',\n",
    "       'ClmProcedureCode_5', 'ClmProcedureCode_6', 'DeductibleAmtPaid',\n",
    "       'ClmAdmitDiagnosisCode']\n",
    "                              ,how='outer')"
   ]
  },
  {
   "cell_type": "code",
   "execution_count": 23,
   "metadata": {
    "execution": {
     "iopub.execute_input": "2023-04-03T04:10:05.448116Z",
     "iopub.status.busy": "2023-04-03T04:10:05.447725Z",
     "iopub.status.idle": "2023-04-03T04:10:05.454802Z",
     "shell.execute_reply": "2023-04-03T04:10:05.453614Z",
     "shell.execute_reply.started": "2023-04-03T04:10:05.448077Z"
    }
   },
   "outputs": [
    {
     "name": "stdout",
     "output_type": "stream",
     "text": [
      "Train_Allpatient (558211, 31)\n",
      "Test_Allpatient (135392, 31)\n"
     ]
    }
   ],
   "source": [
    "print('Train_Allpatient',Train_Allpatient.shape)\n",
    "print('Test_Allpatient',Test_Allpatient.shape)"
   ]
  },
  {
   "cell_type": "code",
   "execution_count": 24,
   "metadata": {
    "execution": {
     "iopub.execute_input": "2023-04-03T04:10:05.457124Z",
     "iopub.status.busy": "2023-04-03T04:10:05.456470Z",
     "iopub.status.idle": "2023-04-03T04:10:05.485637Z",
     "shell.execute_reply": "2023-04-03T04:10:05.484556Z",
     "shell.execute_reply.started": "2023-04-03T04:10:05.457087Z"
    }
   },
   "outputs": [
    {
     "data": {
      "text/html": [
       "<div>\n",
       "<style scoped>\n",
       "    .dataframe tbody tr th:only-of-type {\n",
       "        vertical-align: middle;\n",
       "    }\n",
       "\n",
       "    .dataframe tbody tr th {\n",
       "        vertical-align: top;\n",
       "    }\n",
       "\n",
       "    .dataframe thead th {\n",
       "        text-align: right;\n",
       "    }\n",
       "</style>\n",
       "<table border=\"1\" class=\"dataframe\">\n",
       "  <thead>\n",
       "    <tr style=\"text-align: right;\">\n",
       "      <th></th>\n",
       "      <th>BeneID</th>\n",
       "      <th>ClaimID</th>\n",
       "      <th>ClaimStartDt</th>\n",
       "      <th>ClaimEndDt</th>\n",
       "      <th>Provider</th>\n",
       "      <th>InscClaimAmtReimbursed</th>\n",
       "      <th>AttendingPhysician</th>\n",
       "      <th>OperatingPhysician</th>\n",
       "      <th>OtherPhysician</th>\n",
       "      <th>ClmDiagnosisCode_1</th>\n",
       "      <th>...</th>\n",
       "      <th>ClmProcedureCode_3</th>\n",
       "      <th>ClmProcedureCode_4</th>\n",
       "      <th>ClmProcedureCode_5</th>\n",
       "      <th>ClmProcedureCode_6</th>\n",
       "      <th>DeductibleAmtPaid</th>\n",
       "      <th>ClmAdmitDiagnosisCode</th>\n",
       "      <th>AdmissionDt</th>\n",
       "      <th>DischargeDt</th>\n",
       "      <th>DiagnosisGroupCode</th>\n",
       "      <th>AdmitForDays</th>\n",
       "    </tr>\n",
       "  </thead>\n",
       "  <tbody>\n",
       "    <tr>\n",
       "      <th>0</th>\n",
       "      <td>BENE11001</td>\n",
       "      <td>CLM392397</td>\n",
       "      <td>2009-06-02</td>\n",
       "      <td>2009-06-02</td>\n",
       "      <td>PRV55962</td>\n",
       "      <td>30</td>\n",
       "      <td>PHY347633</td>\n",
       "      <td>NaN</td>\n",
       "      <td>PHY347633</td>\n",
       "      <td>V5832</td>\n",
       "      <td>...</td>\n",
       "      <td>NaN</td>\n",
       "      <td>NaN</td>\n",
       "      <td>NaN</td>\n",
       "      <td>NaN</td>\n",
       "      <td>0.0</td>\n",
       "      <td>NaN</td>\n",
       "      <td>NaT</td>\n",
       "      <td>NaT</td>\n",
       "      <td>NaN</td>\n",
       "      <td>NaN</td>\n",
       "    </tr>\n",
       "    <tr>\n",
       "      <th>1</th>\n",
       "      <td>BENE11001</td>\n",
       "      <td>CLM430760</td>\n",
       "      <td>2009-06-23</td>\n",
       "      <td>2009-06-23</td>\n",
       "      <td>PRV56112</td>\n",
       "      <td>30</td>\n",
       "      <td>PHY381777</td>\n",
       "      <td>NaN</td>\n",
       "      <td>PHY381777</td>\n",
       "      <td>9594</td>\n",
       "      <td>...</td>\n",
       "      <td>NaN</td>\n",
       "      <td>NaN</td>\n",
       "      <td>NaN</td>\n",
       "      <td>NaN</td>\n",
       "      <td>0.0</td>\n",
       "      <td>NaN</td>\n",
       "      <td>NaT</td>\n",
       "      <td>NaT</td>\n",
       "      <td>NaN</td>\n",
       "      <td>NaN</td>\n",
       "    </tr>\n",
       "    <tr>\n",
       "      <th>2</th>\n",
       "      <td>BENE11007</td>\n",
       "      <td>CLM233081</td>\n",
       "      <td>2009-03-07</td>\n",
       "      <td>2009-03-07</td>\n",
       "      <td>PRV56979</td>\n",
       "      <td>200</td>\n",
       "      <td>PHY425311</td>\n",
       "      <td>NaN</td>\n",
       "      <td>PHY425311</td>\n",
       "      <td>7248</td>\n",
       "      <td>...</td>\n",
       "      <td>NaN</td>\n",
       "      <td>NaN</td>\n",
       "      <td>NaN</td>\n",
       "      <td>NaN</td>\n",
       "      <td>0.0</td>\n",
       "      <td>NaN</td>\n",
       "      <td>NaT</td>\n",
       "      <td>NaT</td>\n",
       "      <td>NaN</td>\n",
       "      <td>NaN</td>\n",
       "    </tr>\n",
       "    <tr>\n",
       "      <th>3</th>\n",
       "      <td>BENE11007</td>\n",
       "      <td>CLM496381</td>\n",
       "      <td>2009-07-29</td>\n",
       "      <td>2009-07-29</td>\n",
       "      <td>PRV56573</td>\n",
       "      <td>10</td>\n",
       "      <td>PHY393253</td>\n",
       "      <td>PHY347995</td>\n",
       "      <td>NaN</td>\n",
       "      <td>58889</td>\n",
       "      <td>...</td>\n",
       "      <td>NaN</td>\n",
       "      <td>NaN</td>\n",
       "      <td>NaN</td>\n",
       "      <td>NaN</td>\n",
       "      <td>0.0</td>\n",
       "      <td>5939</td>\n",
       "      <td>NaT</td>\n",
       "      <td>NaT</td>\n",
       "      <td>NaN</td>\n",
       "      <td>NaN</td>\n",
       "    </tr>\n",
       "  </tbody>\n",
       "</table>\n",
       "<p>4 rows × 31 columns</p>\n",
       "</div>"
      ],
      "text/plain": [
       "      BeneID    ClaimID ClaimStartDt  ClaimEndDt  Provider  \\\n",
       "0  BENE11001  CLM392397   2009-06-02  2009-06-02  PRV55962   \n",
       "1  BENE11001  CLM430760   2009-06-23  2009-06-23  PRV56112   \n",
       "2  BENE11007  CLM233081   2009-03-07  2009-03-07  PRV56979   \n",
       "3  BENE11007  CLM496381   2009-07-29  2009-07-29  PRV56573   \n",
       "\n",
       "   InscClaimAmtReimbursed AttendingPhysician OperatingPhysician  \\\n",
       "0                      30          PHY347633                NaN   \n",
       "1                      30          PHY381777                NaN   \n",
       "2                     200          PHY425311                NaN   \n",
       "3                      10          PHY393253          PHY347995   \n",
       "\n",
       "  OtherPhysician ClmDiagnosisCode_1  ... ClmProcedureCode_3  \\\n",
       "0      PHY347633              V5832  ...                NaN   \n",
       "1      PHY381777               9594  ...                NaN   \n",
       "2      PHY425311               7248  ...                NaN   \n",
       "3            NaN              58889  ...                NaN   \n",
       "\n",
       "  ClmProcedureCode_4 ClmProcedureCode_5 ClmProcedureCode_6 DeductibleAmtPaid  \\\n",
       "0                NaN                NaN                NaN               0.0   \n",
       "1                NaN                NaN                NaN               0.0   \n",
       "2                NaN                NaN                NaN               0.0   \n",
       "3                NaN                NaN                NaN               0.0   \n",
       "\n",
       "  ClmAdmitDiagnosisCode AdmissionDt DischargeDt DiagnosisGroupCode  \\\n",
       "0                   NaN         NaT         NaT                NaN   \n",
       "1                   NaN         NaT         NaT                NaN   \n",
       "2                   NaN         NaT         NaT                NaN   \n",
       "3                  5939         NaT         NaT                NaN   \n",
       "\n",
       "   AdmitForDays  \n",
       "0           NaN  \n",
       "1           NaN  \n",
       "2           NaN  \n",
       "3           NaN  \n",
       "\n",
       "[4 rows x 31 columns]"
      ]
     },
     "execution_count": 24,
     "metadata": {},
     "output_type": "execute_result"
    }
   ],
   "source": [
    "Train_Allpatient.head(4)\n",
    "Test_Allpatient.head(4)"
   ]
  },
  {
   "cell_type": "markdown",
   "metadata": {},
   "source": [
    "Merge Beneficiary details to All Patients data"
   ]
  },
  {
   "cell_type": "code",
   "execution_count": 25,
   "metadata": {
    "execution": {
     "iopub.execute_input": "2023-04-03T04:10:05.487609Z",
     "iopub.status.busy": "2023-04-03T04:10:05.487103Z",
     "iopub.status.idle": "2023-04-03T04:10:06.118998Z",
     "shell.execute_reply": "2023-04-03T04:10:06.117961Z",
     "shell.execute_reply.started": "2023-04-03T04:10:05.487568Z"
    }
   },
   "outputs": [],
   "source": [
    "#Merging All patient data with beneficiary details data based on 'BeneID' as joining key for inner join\n",
    "Train_all_detail=pd.merge(Train_Allpatient,Train_Beneficiarydata,left_on='BeneID',right_on='BeneID',how='inner')\n",
    "\n",
    "Test_all_detail=pd.merge(Test_Allpatient,Test_Beneficiarydata,left_on='BeneID',right_on='BeneID',how='inner')"
   ]
  },
  {
   "cell_type": "code",
   "execution_count": 26,
   "metadata": {
    "execution": {
     "iopub.execute_input": "2023-04-03T04:10:06.121114Z",
     "iopub.status.busy": "2023-04-03T04:10:06.120700Z",
     "iopub.status.idle": "2023-04-03T04:10:06.143250Z",
     "shell.execute_reply": "2023-04-03T04:10:06.141977Z",
     "shell.execute_reply.started": "2023-04-03T04:10:06.121054Z"
    }
   },
   "outputs": [
    {
     "name": "stdout",
     "output_type": "stream",
     "text": [
      "Shape of All Patient Details Train :  (558211, 57)\n",
      "Shape of All Patient Details Test :  (135392, 57)\n"
     ]
    },
    {
     "data": {
      "text/html": [
       "<div>\n",
       "<style scoped>\n",
       "    .dataframe tbody tr th:only-of-type {\n",
       "        vertical-align: middle;\n",
       "    }\n",
       "\n",
       "    .dataframe tbody tr th {\n",
       "        vertical-align: top;\n",
       "    }\n",
       "\n",
       "    .dataframe thead th {\n",
       "        text-align: right;\n",
       "    }\n",
       "</style>\n",
       "<table border=\"1\" class=\"dataframe\">\n",
       "  <thead>\n",
       "    <tr style=\"text-align: right;\">\n",
       "      <th></th>\n",
       "      <th>BeneID</th>\n",
       "      <th>ClaimID</th>\n",
       "      <th>ClaimStartDt</th>\n",
       "      <th>ClaimEndDt</th>\n",
       "      <th>Provider</th>\n",
       "      <th>InscClaimAmtReimbursed</th>\n",
       "      <th>AttendingPhysician</th>\n",
       "      <th>OperatingPhysician</th>\n",
       "      <th>OtherPhysician</th>\n",
       "      <th>ClmDiagnosisCode_1</th>\n",
       "      <th>...</th>\n",
       "      <th>ChronicCond_IschemicHeart</th>\n",
       "      <th>ChronicCond_Osteoporasis</th>\n",
       "      <th>ChronicCond_rheumatoidarthritis</th>\n",
       "      <th>ChronicCond_stroke</th>\n",
       "      <th>IPAnnualReimbursementAmt</th>\n",
       "      <th>IPAnnualDeductibleAmt</th>\n",
       "      <th>OPAnnualReimbursementAmt</th>\n",
       "      <th>OPAnnualDeductibleAmt</th>\n",
       "      <th>Age</th>\n",
       "      <th>WhetherDead</th>\n",
       "    </tr>\n",
       "  </thead>\n",
       "  <tbody>\n",
       "    <tr>\n",
       "      <th>0</th>\n",
       "      <td>BENE11001</td>\n",
       "      <td>CLM392397</td>\n",
       "      <td>2009-06-02</td>\n",
       "      <td>2009-06-02</td>\n",
       "      <td>PRV55962</td>\n",
       "      <td>30</td>\n",
       "      <td>PHY347633</td>\n",
       "      <td>NaN</td>\n",
       "      <td>PHY347633</td>\n",
       "      <td>V5832</td>\n",
       "      <td>...</td>\n",
       "      <td>1</td>\n",
       "      <td>0</td>\n",
       "      <td>1</td>\n",
       "      <td>1</td>\n",
       "      <td>36000</td>\n",
       "      <td>3204</td>\n",
       "      <td>60</td>\n",
       "      <td>70</td>\n",
       "      <td>67.0</td>\n",
       "      <td>0.0</td>\n",
       "    </tr>\n",
       "    <tr>\n",
       "      <th>1</th>\n",
       "      <td>BENE11001</td>\n",
       "      <td>CLM430760</td>\n",
       "      <td>2009-06-23</td>\n",
       "      <td>2009-06-23</td>\n",
       "      <td>PRV56112</td>\n",
       "      <td>30</td>\n",
       "      <td>PHY381777</td>\n",
       "      <td>NaN</td>\n",
       "      <td>PHY381777</td>\n",
       "      <td>9594</td>\n",
       "      <td>...</td>\n",
       "      <td>1</td>\n",
       "      <td>0</td>\n",
       "      <td>1</td>\n",
       "      <td>1</td>\n",
       "      <td>36000</td>\n",
       "      <td>3204</td>\n",
       "      <td>60</td>\n",
       "      <td>70</td>\n",
       "      <td>67.0</td>\n",
       "      <td>0.0</td>\n",
       "    </tr>\n",
       "  </tbody>\n",
       "</table>\n",
       "<p>2 rows × 57 columns</p>\n",
       "</div>"
      ],
      "text/plain": [
       "      BeneID    ClaimID ClaimStartDt  ClaimEndDt  Provider  \\\n",
       "0  BENE11001  CLM392397   2009-06-02  2009-06-02  PRV55962   \n",
       "1  BENE11001  CLM430760   2009-06-23  2009-06-23  PRV56112   \n",
       "\n",
       "   InscClaimAmtReimbursed AttendingPhysician OperatingPhysician  \\\n",
       "0                      30          PHY347633                NaN   \n",
       "1                      30          PHY381777                NaN   \n",
       "\n",
       "  OtherPhysician ClmDiagnosisCode_1  ... ChronicCond_IschemicHeart  \\\n",
       "0      PHY347633              V5832  ...                         1   \n",
       "1      PHY381777               9594  ...                         1   \n",
       "\n",
       "  ChronicCond_Osteoporasis ChronicCond_rheumatoidarthritis ChronicCond_stroke  \\\n",
       "0                        0                               1                  1   \n",
       "1                        0                               1                  1   \n",
       "\n",
       "  IPAnnualReimbursementAmt IPAnnualDeductibleAmt OPAnnualReimbursementAmt  \\\n",
       "0                    36000                  3204                       60   \n",
       "1                    36000                  3204                       60   \n",
       "\n",
       "  OPAnnualDeductibleAmt   Age  WhetherDead  \n",
       "0                    70  67.0          0.0  \n",
       "1                    70  67.0          0.0  \n",
       "\n",
       "[2 rows x 57 columns]"
      ]
     },
     "execution_count": 26,
     "metadata": {},
     "output_type": "execute_result"
    }
   ],
   "source": [
    "## Lets Print shape of data \n",
    "print('Shape of All Patient Details Train : ',Train_all_detail.shape)\n",
    "Train_all_detail.head()\n",
    "\n",
    "print('Shape of All Patient Details Test : ',Test_all_detail.shape)\n",
    "Test_all_detail.head(2)"
   ]
  },
  {
   "cell_type": "markdown",
   "metadata": {},
   "source": [
    "Merge PotentialFraud details for each provider to create Provider data along with Patient Details "
   ]
  },
  {
   "cell_type": "code",
   "execution_count": 27,
   "metadata": {
    "execution": {
     "iopub.execute_input": "2023-04-03T04:10:06.145703Z",
     "iopub.status.busy": "2023-04-03T04:10:06.144971Z",
     "iopub.status.idle": "2023-04-03T04:10:10.754991Z",
     "shell.execute_reply": "2023-04-03T04:10:10.753458Z",
     "shell.execute_reply.started": "2023-04-03T04:10:06.145664Z"
    }
   },
   "outputs": [],
   "source": [
    "# Lets merge patient data with fradulent providers details data with \"Provider\" as joining key for inner join\n",
    "\n",
    "Train_Provider =pd.merge(Train,Train_all_detail,on='Provider')\n",
    "\n",
    "Test_Provider =pd.merge(Test,Test_all_detail,on='Provider')"
   ]
  },
  {
   "cell_type": "code",
   "execution_count": 28,
   "metadata": {
    "execution": {
     "iopub.execute_input": "2023-04-03T04:10:10.765882Z",
     "iopub.status.busy": "2023-04-03T04:10:10.765393Z",
     "iopub.status.idle": "2023-04-03T04:10:10.797306Z",
     "shell.execute_reply": "2023-04-03T04:10:10.795936Z",
     "shell.execute_reply.started": "2023-04-03T04:10:10.765838Z"
    }
   },
   "outputs": [
    {
     "name": "stdout",
     "output_type": "stream",
     "text": [
      "Shape of Train Provider with Patient Details data :- (558211, 58)\n",
      "Shape of Test Provider with Patient Details data :- (135392, 57)\n"
     ]
    },
    {
     "data": {
      "text/html": [
       "<div>\n",
       "<style scoped>\n",
       "    .dataframe tbody tr th:only-of-type {\n",
       "        vertical-align: middle;\n",
       "    }\n",
       "\n",
       "    .dataframe tbody tr th {\n",
       "        vertical-align: top;\n",
       "    }\n",
       "\n",
       "    .dataframe thead th {\n",
       "        text-align: right;\n",
       "    }\n",
       "</style>\n",
       "<table border=\"1\" class=\"dataframe\">\n",
       "  <thead>\n",
       "    <tr style=\"text-align: right;\">\n",
       "      <th></th>\n",
       "      <th>Provider</th>\n",
       "      <th>BeneID</th>\n",
       "      <th>ClaimID</th>\n",
       "      <th>ClaimStartDt</th>\n",
       "      <th>ClaimEndDt</th>\n",
       "      <th>InscClaimAmtReimbursed</th>\n",
       "      <th>AttendingPhysician</th>\n",
       "      <th>OperatingPhysician</th>\n",
       "      <th>OtherPhysician</th>\n",
       "      <th>ClmDiagnosisCode_1</th>\n",
       "      <th>...</th>\n",
       "      <th>ChronicCond_IschemicHeart</th>\n",
       "      <th>ChronicCond_Osteoporasis</th>\n",
       "      <th>ChronicCond_rheumatoidarthritis</th>\n",
       "      <th>ChronicCond_stroke</th>\n",
       "      <th>IPAnnualReimbursementAmt</th>\n",
       "      <th>IPAnnualDeductibleAmt</th>\n",
       "      <th>OPAnnualReimbursementAmt</th>\n",
       "      <th>OPAnnualDeductibleAmt</th>\n",
       "      <th>Age</th>\n",
       "      <th>WhetherDead</th>\n",
       "    </tr>\n",
       "  </thead>\n",
       "  <tbody>\n",
       "    <tr>\n",
       "      <th>0</th>\n",
       "      <td>PRV51002</td>\n",
       "      <td>BENE13342</td>\n",
       "      <td>CLM129901</td>\n",
       "      <td>2009-01-10</td>\n",
       "      <td>2009-01-10</td>\n",
       "      <td>100</td>\n",
       "      <td>PHY418314</td>\n",
       "      <td>PHY418314</td>\n",
       "      <td>PHY413853</td>\n",
       "      <td>514</td>\n",
       "      <td>...</td>\n",
       "      <td>0</td>\n",
       "      <td>0</td>\n",
       "      <td>0</td>\n",
       "      <td>0</td>\n",
       "      <td>0</td>\n",
       "      <td>0</td>\n",
       "      <td>1310</td>\n",
       "      <td>590</td>\n",
       "      <td>75.0</td>\n",
       "      <td>0.0</td>\n",
       "    </tr>\n",
       "    <tr>\n",
       "      <th>1</th>\n",
       "      <td>PRV51002</td>\n",
       "      <td>BENE13915</td>\n",
       "      <td>CLM163936</td>\n",
       "      <td>2009-01-29</td>\n",
       "      <td>2009-01-29</td>\n",
       "      <td>40</td>\n",
       "      <td>PHY399539</td>\n",
       "      <td>PHY421140</td>\n",
       "      <td>NaN</td>\n",
       "      <td>7840</td>\n",
       "      <td>...</td>\n",
       "      <td>1</td>\n",
       "      <td>0</td>\n",
       "      <td>0</td>\n",
       "      <td>0</td>\n",
       "      <td>22000</td>\n",
       "      <td>3204</td>\n",
       "      <td>1020</td>\n",
       "      <td>910</td>\n",
       "      <td>89.0</td>\n",
       "      <td>0.0</td>\n",
       "    </tr>\n",
       "  </tbody>\n",
       "</table>\n",
       "<p>2 rows × 57 columns</p>\n",
       "</div>"
      ],
      "text/plain": [
       "   Provider     BeneID    ClaimID ClaimStartDt  ClaimEndDt  \\\n",
       "0  PRV51002  BENE13342  CLM129901   2009-01-10  2009-01-10   \n",
       "1  PRV51002  BENE13915  CLM163936   2009-01-29  2009-01-29   \n",
       "\n",
       "   InscClaimAmtReimbursed AttendingPhysician OperatingPhysician  \\\n",
       "0                     100          PHY418314          PHY418314   \n",
       "1                      40          PHY399539          PHY421140   \n",
       "\n",
       "  OtherPhysician ClmDiagnosisCode_1  ... ChronicCond_IschemicHeart  \\\n",
       "0      PHY413853                514  ...                         0   \n",
       "1            NaN               7840  ...                         1   \n",
       "\n",
       "  ChronicCond_Osteoporasis ChronicCond_rheumatoidarthritis ChronicCond_stroke  \\\n",
       "0                        0                               0                  0   \n",
       "1                        0                               0                  0   \n",
       "\n",
       "  IPAnnualReimbursementAmt IPAnnualDeductibleAmt OPAnnualReimbursementAmt  \\\n",
       "0                        0                     0                     1310   \n",
       "1                    22000                  3204                     1020   \n",
       "\n",
       "  OPAnnualDeductibleAmt   Age  WhetherDead  \n",
       "0                   590  75.0          0.0  \n",
       "1                   910  89.0          0.0  \n",
       "\n",
       "[2 rows x 57 columns]"
      ]
     },
     "execution_count": 28,
     "metadata": {},
     "output_type": "execute_result"
    }
   ],
   "source": [
    "## Lets Print the shape of dataset \n",
    "print(\"Shape of Train Provider with Patient Details data :-\",Train_Provider.shape)\n",
    "Train_Provider.head()\n",
    "\n",
    "print(\"Shape of Test Provider with Patient Details data :-\",Test_Provider.shape)\n",
    "Test_Provider.head(2)"
   ]
  },
  {
   "cell_type": "code",
   "execution_count": 29,
   "metadata": {
    "execution": {
     "iopub.execute_input": "2023-04-03T04:10:10.803901Z",
     "iopub.status.busy": "2023-04-03T04:10:10.803025Z",
     "iopub.status.idle": "2023-04-03T04:10:10.811874Z",
     "shell.execute_reply": "2023-04-03T04:10:10.809339Z",
     "shell.execute_reply.started": "2023-04-03T04:10:10.803848Z"
    }
   },
   "outputs": [
    {
     "name": "stdout",
     "output_type": "stream",
     "text": [
      "Expected rows after addition 693603\n"
     ]
    }
   ],
   "source": [
    "print(\"Expected rows after addition\",135392+558211)"
   ]
  },
  {
   "cell_type": "code",
   "execution_count": 30,
   "metadata": {
    "execution": {
     "iopub.execute_input": "2023-04-03T04:10:10.818216Z",
     "iopub.status.busy": "2023-04-03T04:10:10.816653Z",
     "iopub.status.idle": "2023-04-03T04:10:11.654035Z",
     "shell.execute_reply": "2023-04-03T04:10:11.652881Z",
     "shell.execute_reply.started": "2023-04-03T04:10:10.818175Z"
    }
   },
   "outputs": [
    {
     "name": "stdout",
     "output_type": "stream",
     "text": [
      "Percent missing values in Train Provider with patient details data :\n",
      "\n",
      "Percent missing values in Test Provider with patient details data :\n",
      "\n"
     ]
    },
    {
     "data": {
      "text/plain": [
       "Provider                             0.000000\n",
       "BeneID                               0.000000\n",
       "ClaimID                              0.000000\n",
       "ClaimStartDt                         0.000000\n",
       "ClaimEndDt                           0.000000\n",
       "InscClaimAmtReimbursed               0.000000\n",
       "AttendingPhysician                   0.256293\n",
       "OperatingPhysician                  79.915357\n",
       "OtherPhysician                      64.080596\n",
       "ClmDiagnosisCode_1                   1.904101\n",
       "ClmDiagnosisCode_2                  35.293814\n",
       "ClmDiagnosisCode_3                  56.682817\n",
       "ClmDiagnosisCode_4                  70.739039\n",
       "ClmDiagnosisCode_5                  80.207102\n",
       "ClmDiagnosisCode_6                  85.109903\n",
       "ClmDiagnosisCode_7                  88.341261\n",
       "ClmDiagnosisCode_8                  90.603581\n",
       "ClmDiagnosisCode_9                  92.705625\n",
       "ClmDiagnosisCode_10                 99.150615\n",
       "ClmProcedureCode_1                  95.962095\n",
       "ClmProcedureCode_2                  99.067153\n",
       "ClmProcedureCode_3                  99.833816\n",
       "ClmProcedureCode_4                  99.978581\n",
       "ClmProcedureCode_5                  99.998523\n",
       "ClmProcedureCode_6                 100.000000\n",
       "DeductibleAmtPaid                    0.144765\n",
       "ClmAdmitDiagnosisCode               73.886197\n",
       "AdmissionDt                         92.945669\n",
       "DischargeDt                         92.945669\n",
       "DiagnosisGroupCode                  92.945669\n",
       "AdmitForDays                        92.945669\n",
       "DOB                                  0.000000\n",
       "DOD                                 99.231860\n",
       "Gender                               0.000000\n",
       "Race                                 0.000000\n",
       "RenalDiseaseIndicator                0.000000\n",
       "State                                0.000000\n",
       "County                               0.000000\n",
       "NoOfMonths_PartACov                  0.000000\n",
       "NoOfMonths_PartBCov                  0.000000\n",
       "ChronicCond_Alzheimer                0.000000\n",
       "ChronicCond_Heartfailure             0.000000\n",
       "ChronicCond_KidneyDisease            0.000000\n",
       "ChronicCond_Cancer                   0.000000\n",
       "ChronicCond_ObstrPulmonary           0.000000\n",
       "ChronicCond_Depression               0.000000\n",
       "ChronicCond_Diabetes                 0.000000\n",
       "ChronicCond_IschemicHeart            0.000000\n",
       "ChronicCond_Osteoporasis             0.000000\n",
       "ChronicCond_rheumatoidarthritis      0.000000\n",
       "ChronicCond_stroke                   0.000000\n",
       "IPAnnualReimbursementAmt             0.000000\n",
       "IPAnnualDeductibleAmt                0.000000\n",
       "OPAnnualReimbursementAmt             0.000000\n",
       "OPAnnualDeductibleAmt                0.000000\n",
       "Age                                  0.000000\n",
       "WhetherDead                          0.000000\n",
       "dtype: float64"
      ]
     },
     "execution_count": 30,
     "metadata": {},
     "output_type": "execute_result"
    }
   ],
   "source": [
    "#Checking the  missing value percentage of all the columns\n",
    "\n",
    "print('Percent missing values in Train Provider with patient details data :\\n')\n",
    "Train_Provider.isnull().sum()*100/len(Train_Provider)\n",
    "\n",
    "\n",
    "print('Percent missing values in Test Provider with patient details data :\\n')\n",
    "Test_Provider.isnull().sum()*100/len(Test_Provider)"
   ]
  },
  {
   "cell_type": "code",
   "execution_count": 31,
   "metadata": {
    "execution": {
     "iopub.execute_input": "2023-04-03T04:10:11.656437Z",
     "iopub.status.busy": "2023-04-03T04:10:11.655739Z",
     "iopub.status.idle": "2023-04-03T04:10:11.667208Z",
     "shell.execute_reply": "2023-04-03T04:10:11.666176Z",
     "shell.execute_reply.started": "2023-04-03T04:10:11.656396Z"
    }
   },
   "outputs": [
    {
     "data": {
      "text/plain": [
       "Provider                                   object\n",
       "BeneID                                     object\n",
       "ClaimID                                    object\n",
       "ClaimStartDt                               object\n",
       "ClaimEndDt                                 object\n",
       "InscClaimAmtReimbursed                      int64\n",
       "AttendingPhysician                         object\n",
       "OperatingPhysician                         object\n",
       "OtherPhysician                             object\n",
       "ClmDiagnosisCode_1                         object\n",
       "ClmDiagnosisCode_2                         object\n",
       "ClmDiagnosisCode_3                         object\n",
       "ClmDiagnosisCode_4                         object\n",
       "ClmDiagnosisCode_5                         object\n",
       "ClmDiagnosisCode_6                         object\n",
       "ClmDiagnosisCode_7                         object\n",
       "ClmDiagnosisCode_8                         object\n",
       "ClmDiagnosisCode_9                         object\n",
       "ClmDiagnosisCode_10                        object\n",
       "ClmProcedureCode_1                        float64\n",
       "ClmProcedureCode_2                        float64\n",
       "ClmProcedureCode_3                        float64\n",
       "ClmProcedureCode_4                        float64\n",
       "ClmProcedureCode_5                        float64\n",
       "ClmProcedureCode_6                        float64\n",
       "DeductibleAmtPaid                         float64\n",
       "ClmAdmitDiagnosisCode                      object\n",
       "AdmissionDt                        datetime64[ns]\n",
       "DischargeDt                        datetime64[ns]\n",
       "DiagnosisGroupCode                         object\n",
       "AdmitForDays                              float64\n",
       "DOB                                datetime64[ns]\n",
       "DOD                                datetime64[ns]\n",
       "Gender                                      int64\n",
       "Race                                        int64\n",
       "RenalDiseaseIndicator                      object\n",
       "State                                       int64\n",
       "County                                      int64\n",
       "NoOfMonths_PartACov                         int64\n",
       "NoOfMonths_PartBCov                         int64\n",
       "ChronicCond_Alzheimer                       int64\n",
       "ChronicCond_Heartfailure                    int64\n",
       "ChronicCond_KidneyDisease                   int64\n",
       "ChronicCond_Cancer                          int64\n",
       "ChronicCond_ObstrPulmonary                  int64\n",
       "ChronicCond_Depression                      int64\n",
       "ChronicCond_Diabetes                        int64\n",
       "ChronicCond_IschemicHeart                   int64\n",
       "ChronicCond_Osteoporasis                    int64\n",
       "ChronicCond_rheumatoidarthritis             int64\n",
       "ChronicCond_stroke                          int64\n",
       "IPAnnualReimbursementAmt                    int64\n",
       "IPAnnualDeductibleAmt                       int64\n",
       "OPAnnualReimbursementAmt                    int64\n",
       "OPAnnualDeductibleAmt                       int64\n",
       "Age                                       float64\n",
       "WhetherDead                               float64\n",
       "dtype: object"
      ]
     },
     "execution_count": 31,
     "metadata": {},
     "output_type": "execute_result"
    }
   ],
   "source": [
    "##Checking the dtypes of both the datasets\n",
    "Train_Provider.dtypes\n",
    "Test_Provider.dtypes"
   ]
  },
  {
   "cell_type": "code",
   "execution_count": 32,
   "metadata": {
    "execution": {
     "iopub.execute_input": "2023-04-03T04:10:11.669537Z",
     "iopub.status.busy": "2023-04-03T04:10:11.669034Z",
     "iopub.status.idle": "2023-04-03T04:10:11.674460Z",
     "shell.execute_reply": "2023-04-03T04:10:11.673068Z",
     "shell.execute_reply.started": "2023-04-03T04:10:11.669502Z"
    }
   },
   "outputs": [],
   "source": [
    "#Creating a copy of test data first and merge test with train to get better feature averages\n",
    "\n",
    "Test_ProviderWithPatientDetailsdata=Test_Provider"
   ]
  },
  {
   "cell_type": "code",
   "execution_count": 33,
   "metadata": {
    "execution": {
     "iopub.execute_input": "2023-04-03T04:10:11.676059Z",
     "iopub.status.busy": "2023-04-03T04:10:11.675782Z",
     "iopub.status.idle": "2023-04-03T04:10:11.685925Z",
     "shell.execute_reply": "2023-04-03T04:10:11.684729Z",
     "shell.execute_reply.started": "2023-04-03T04:10:11.676020Z"
    }
   },
   "outputs": [
    {
     "name": "stdout",
     "output_type": "stream",
     "text": [
      "Shape of Test Copy :- (135392, 57)\n"
     ]
    }
   ],
   "source": [
    "#Lets Check shape of copy\n",
    "\n",
    "print('Shape of Test Copy :-',Test_ProviderWithPatientDetailsdata.shape)"
   ]
  },
  {
   "cell_type": "markdown",
   "metadata": {},
   "source": [
    "Merging Train and Test ( 2 dataframe merging vertically)"
   ]
  },
  {
   "cell_type": "code",
   "execution_count": 34,
   "metadata": {
    "execution": {
     "iopub.execute_input": "2023-04-03T04:10:11.688204Z",
     "iopub.status.busy": "2023-04-03T04:10:11.687209Z",
     "iopub.status.idle": "2023-04-03T04:10:11.694055Z",
     "shell.execute_reply": "2023-04-03T04:10:11.692980Z",
     "shell.execute_reply.started": "2023-04-03T04:10:11.688165Z"
    }
   },
   "outputs": [],
   "source": [
    "#We will concat two datasets using columns of Test data only as we dont see target column in Test data.\n",
    "\n",
    "col_merge=Test_Provider.columns"
   ]
  },
  {
   "cell_type": "code",
   "execution_count": 35,
   "metadata": {
    "execution": {
     "iopub.execute_input": "2023-04-03T04:10:11.696404Z",
     "iopub.status.busy": "2023-04-03T04:10:11.695455Z",
     "iopub.status.idle": "2023-04-03T04:10:13.090073Z",
     "shell.execute_reply": "2023-04-03T04:10:13.089003Z",
     "shell.execute_reply.started": "2023-04-03T04:10:11.696366Z"
    }
   },
   "outputs": [],
   "source": [
    "## Lets add both test and train datasets\n",
    "\n",
    "Test_Provider=pd.concat([Test_Provider,\n",
    "                         Train_Provider[col_merge]])"
   ]
  },
  {
   "cell_type": "code",
   "execution_count": 36,
   "metadata": {
    "execution": {
     "iopub.execute_input": "2023-04-03T04:10:13.092220Z",
     "iopub.status.busy": "2023-04-03T04:10:13.091783Z",
     "iopub.status.idle": "2023-04-03T04:10:13.100269Z",
     "shell.execute_reply": "2023-04-03T04:10:13.099144Z",
     "shell.execute_reply.started": "2023-04-03T04:10:13.092176Z"
    }
   },
   "outputs": [
    {
     "name": "stdout",
     "output_type": "stream",
     "text": [
      "Shape of Test After Concatenation (693603, 57)\n"
     ]
    }
   ],
   "source": [
    "### Lets verify shape after concatenating\n",
    "\n",
    "print(\"Shape of Test After Concatenation\",Test_Provider.shape)\n"
   ]
  },
  {
   "cell_type": "markdown",
   "metadata": {},
   "source": [
    "### Data Preprocessing"
   ]
  },
  {
   "cell_type": "code",
   "execution_count": 37,
   "metadata": {
    "execution": {
     "iopub.execute_input": "2023-04-03T04:10:13.103632Z",
     "iopub.status.busy": "2023-04-03T04:10:13.102919Z",
     "iopub.status.idle": "2023-04-03T04:10:14.436022Z",
     "shell.execute_reply": "2023-04-03T04:10:14.434917Z",
     "shell.execute_reply.started": "2023-04-03T04:10:13.103602Z"
    },
    "scrolled": true
   },
   "outputs": [
    {
     "name": "stdout",
     "output_type": "stream",
     "text": [
      "Test_Provider shape: (693603, 57)\n"
     ]
    }
   ],
   "source": [
    "#Imputing numeric columns with 0\n",
    "\n",
    "cols1 = Train_Provider.select_dtypes([np.number]).columns\n",
    "cols2 = Train_Provider.select_dtypes(exclude = [np.number]).columns\n",
    "\n",
    "Train_Provider[cols1] = Train_Provider[cols1].fillna(value=0)\n",
    "Test_Provider[cols1]=Test_Provider[cols1].fillna(value=0)\n",
    "print('Test_Provider shape:',Test_Provider.shape)"
   ]
  },
  {
   "cell_type": "code",
   "execution_count": 38,
   "metadata": {
    "execution": {
     "iopub.execute_input": "2023-04-03T04:10:14.438015Z",
     "iopub.status.busy": "2023-04-03T04:10:14.437625Z",
     "iopub.status.idle": "2023-04-03T04:10:14.459613Z",
     "shell.execute_reply": "2023-04-03T04:10:14.458581Z",
     "shell.execute_reply.started": "2023-04-03T04:10:14.437974Z"
    }
   },
   "outputs": [
    {
     "data": {
      "text/html": [
       "<div>\n",
       "<style scoped>\n",
       "    .dataframe tbody tr th:only-of-type {\n",
       "        vertical-align: middle;\n",
       "    }\n",
       "\n",
       "    .dataframe tbody tr th {\n",
       "        vertical-align: top;\n",
       "    }\n",
       "\n",
       "    .dataframe thead th {\n",
       "        text-align: right;\n",
       "    }\n",
       "</style>\n",
       "<table border=\"1\" class=\"dataframe\">\n",
       "  <thead>\n",
       "    <tr style=\"text-align: right;\">\n",
       "      <th></th>\n",
       "      <th>Provider</th>\n",
       "      <th>BeneID</th>\n",
       "      <th>ClaimID</th>\n",
       "      <th>ClaimStartDt</th>\n",
       "      <th>ClaimEndDt</th>\n",
       "      <th>InscClaimAmtReimbursed</th>\n",
       "      <th>AttendingPhysician</th>\n",
       "      <th>OperatingPhysician</th>\n",
       "      <th>OtherPhysician</th>\n",
       "      <th>ClmDiagnosisCode_1</th>\n",
       "      <th>...</th>\n",
       "      <th>ChronicCond_IschemicHeart</th>\n",
       "      <th>ChronicCond_Osteoporasis</th>\n",
       "      <th>ChronicCond_rheumatoidarthritis</th>\n",
       "      <th>ChronicCond_stroke</th>\n",
       "      <th>IPAnnualReimbursementAmt</th>\n",
       "      <th>IPAnnualDeductibleAmt</th>\n",
       "      <th>OPAnnualReimbursementAmt</th>\n",
       "      <th>OPAnnualDeductibleAmt</th>\n",
       "      <th>Age</th>\n",
       "      <th>WhetherDead</th>\n",
       "    </tr>\n",
       "  </thead>\n",
       "  <tbody>\n",
       "    <tr>\n",
       "      <th>0</th>\n",
       "      <td>PRV51001</td>\n",
       "      <td>BENE11727</td>\n",
       "      <td>CLM733300</td>\n",
       "      <td>2009-12-17</td>\n",
       "      <td>2009-12-17</td>\n",
       "      <td>20</td>\n",
       "      <td>PHY383007</td>\n",
       "      <td>NaN</td>\n",
       "      <td>PHY383007</td>\n",
       "      <td>5953</td>\n",
       "      <td>...</td>\n",
       "      <td>1</td>\n",
       "      <td>0</td>\n",
       "      <td>0</td>\n",
       "      <td>0</td>\n",
       "      <td>0</td>\n",
       "      <td>0</td>\n",
       "      <td>300</td>\n",
       "      <td>110</td>\n",
       "      <td>80.0</td>\n",
       "      <td>0.0</td>\n",
       "    </tr>\n",
       "  </tbody>\n",
       "</table>\n",
       "<p>1 rows × 57 columns</p>\n",
       "</div>"
      ],
      "text/plain": [
       "   Provider     BeneID    ClaimID ClaimStartDt  ClaimEndDt  \\\n",
       "0  PRV51001  BENE11727  CLM733300   2009-12-17  2009-12-17   \n",
       "\n",
       "   InscClaimAmtReimbursed AttendingPhysician OperatingPhysician  \\\n",
       "0                      20          PHY383007                NaN   \n",
       "\n",
       "  OtherPhysician ClmDiagnosisCode_1  ... ChronicCond_IschemicHeart  \\\n",
       "0      PHY383007               5953  ...                         1   \n",
       "\n",
       "  ChronicCond_Osteoporasis ChronicCond_rheumatoidarthritis ChronicCond_stroke  \\\n",
       "0                        0                               0                  0   \n",
       "\n",
       "  IPAnnualReimbursementAmt IPAnnualDeductibleAmt OPAnnualReimbursementAmt  \\\n",
       "0                        0                     0                      300   \n",
       "\n",
       "  OPAnnualDeductibleAmt   Age  WhetherDead  \n",
       "0                   110  80.0          0.0  \n",
       "\n",
       "[1 rows x 57 columns]"
      ]
     },
     "execution_count": 38,
     "metadata": {},
     "output_type": "execute_result"
    }
   ],
   "source": [
    "#Checking record number 135392 as this will be record from train datasets.\n",
    "Test_Provider.iloc[[135392]]"
   ]
  },
  {
   "cell_type": "markdown",
   "metadata": {},
   "source": [
    "**Feature Selection**"
   ]
  },
  {
   "cell_type": "code",
   "execution_count": 39,
   "metadata": {
    "execution": {
     "iopub.execute_input": "2023-04-03T04:10:14.462094Z",
     "iopub.status.busy": "2023-04-03T04:10:14.461357Z",
     "iopub.status.idle": "2023-04-03T04:10:14.559654Z",
     "shell.execute_reply": "2023-04-03T04:10:14.558594Z",
     "shell.execute_reply.started": "2023-04-03T04:10:14.462029Z"
    }
   },
   "outputs": [],
   "source": [
    "#Removing unnecessary columns\n",
    "\n",
    "cols=Train_Provider.columns\n",
    "cols[:58]\n",
    "\n",
    "remove_these_columns=['BeneID', 'ClaimID', 'ClaimStartDt','ClaimEndDt','AttendingPhysician',\n",
    "       'OperatingPhysician', 'OtherPhysician', 'ClmDiagnosisCode_1',\n",
    "       'ClmDiagnosisCode_2', 'ClmDiagnosisCode_3', 'ClmDiagnosisCode_4',\n",
    "       'ClmDiagnosisCode_5', 'ClmDiagnosisCode_6', 'ClmDiagnosisCode_7',\n",
    "       'ClmDiagnosisCode_8', 'ClmDiagnosisCode_9', 'ClmDiagnosisCode_10',\n",
    "       'ClmProcedureCode_1', 'ClmProcedureCode_2', 'ClmProcedureCode_3',\n",
    "       'ClmProcedureCode_4', 'ClmProcedureCode_5', 'ClmProcedureCode_6',\n",
    "       'ClmAdmitDiagnosisCode', 'AdmissionDt',\n",
    "       'DischargeDt', 'DiagnosisGroupCode','DOB', 'DOD',\n",
    "        'State', 'County']\n",
    "\n",
    "Train_fs=Train_Provider.drop(axis=1,columns=remove_these_columns)\n",
    "Test_fs=Test_Provider.drop(axis=1,columns=remove_these_columns)\n"
   ]
  },
  {
   "cell_type": "code",
   "execution_count": 40,
   "metadata": {
    "execution": {
     "iopub.execute_input": "2023-04-03T04:10:14.562088Z",
     "iopub.status.busy": "2023-04-03T04:10:14.561063Z",
     "iopub.status.idle": "2023-04-03T04:10:14.705706Z",
     "shell.execute_reply": "2023-04-03T04:10:14.704582Z",
     "shell.execute_reply.started": "2023-04-03T04:10:14.562032Z"
    }
   },
   "outputs": [
    {
     "name": "stdout",
     "output_type": "stream",
     "text": [
      "Train Shape : (558211, 27)\n",
      "Test Shape :  (693603, 26)\n",
      "Train Missing Values 0\n",
      "Test Missing Values 0\n"
     ]
    }
   ],
   "source": [
    "## Lets Check shape and missing values\n",
    "\n",
    "print('Train Shape :',Train_fs.shape)\n",
    "print('Test Shape : ',Test_fs.shape)\n",
    "print(\"Train Missing Values\",Train_fs.isnull().sum().sum())\n",
    "print(\"Test Missing Values\",Test_fs.isnull().sum().sum())"
   ]
  },
  {
   "cell_type": "markdown",
   "metadata": {},
   "source": [
    "**Type Conversion**"
   ]
  },
  {
   "cell_type": "code",
   "execution_count": 41,
   "metadata": {
    "execution": {
     "iopub.execute_input": "2023-04-03T04:10:14.707652Z",
     "iopub.status.busy": "2023-04-03T04:10:14.707208Z",
     "iopub.status.idle": "2023-04-03T04:10:14.850432Z",
     "shell.execute_reply": "2023-04-03T04:10:14.849347Z",
     "shell.execute_reply.started": "2023-04-03T04:10:14.707613Z"
    }
   },
   "outputs": [],
   "source": [
    "#Converting types of gender and race to categorical.\n",
    "\n",
    "Train_fs.Gender=Train_fs.Gender.astype('category')\n",
    "Test_fs.Gender=Test_fs.Gender.astype('category')\n",
    "\n",
    "Train_fs.Race=Train_fs.Race.astype('category')\n",
    "Test_fs.Race=Test_fs.Race.astype('category')"
   ]
  },
  {
   "cell_type": "code",
   "execution_count": 42,
   "metadata": {
    "execution": {
     "iopub.execute_input": "2023-04-03T04:10:14.852404Z",
     "iopub.status.busy": "2023-04-03T04:10:14.851904Z",
     "iopub.status.idle": "2023-04-03T04:10:15.068096Z",
     "shell.execute_reply": "2023-04-03T04:10:15.067054Z",
     "shell.execute_reply.started": "2023-04-03T04:10:14.852363Z"
    }
   },
   "outputs": [],
   "source": [
    "#Creating dummies for categorrical columns.\n",
    "\n",
    "Train_fs=pd.get_dummies(Train_fs,columns=['Gender','Race'],drop_first=True)\n",
    "Test_fs=pd.get_dummies(Test_fs,columns=['Gender','Race'],drop_first=True)"
   ]
  },
  {
   "cell_type": "code",
   "execution_count": 43,
   "metadata": {
    "execution": {
     "iopub.execute_input": "2023-04-03T04:10:15.070820Z",
     "iopub.status.busy": "2023-04-03T04:10:15.069408Z",
     "iopub.status.idle": "2023-04-03T04:10:15.096339Z",
     "shell.execute_reply": "2023-04-03T04:10:15.095100Z",
     "shell.execute_reply.started": "2023-04-03T04:10:15.070770Z"
    }
   },
   "outputs": [
    {
     "data": {
      "text/html": [
       "<div>\n",
       "<style scoped>\n",
       "    .dataframe tbody tr th:only-of-type {\n",
       "        vertical-align: middle;\n",
       "    }\n",
       "\n",
       "    .dataframe tbody tr th {\n",
       "        vertical-align: top;\n",
       "    }\n",
       "\n",
       "    .dataframe thead th {\n",
       "        text-align: right;\n",
       "    }\n",
       "</style>\n",
       "<table border=\"1\" class=\"dataframe\">\n",
       "  <thead>\n",
       "    <tr style=\"text-align: right;\">\n",
       "      <th></th>\n",
       "      <th>Provider</th>\n",
       "      <th>PotentialFraud</th>\n",
       "      <th>InscClaimAmtReimbursed</th>\n",
       "      <th>DeductibleAmtPaid</th>\n",
       "      <th>AdmitForDays</th>\n",
       "      <th>RenalDiseaseIndicator</th>\n",
       "      <th>NoOfMonths_PartACov</th>\n",
       "      <th>NoOfMonths_PartBCov</th>\n",
       "      <th>ChronicCond_Alzheimer</th>\n",
       "      <th>ChronicCond_Heartfailure</th>\n",
       "      <th>...</th>\n",
       "      <th>IPAnnualReimbursementAmt</th>\n",
       "      <th>IPAnnualDeductibleAmt</th>\n",
       "      <th>OPAnnualReimbursementAmt</th>\n",
       "      <th>OPAnnualDeductibleAmt</th>\n",
       "      <th>Age</th>\n",
       "      <th>WhetherDead</th>\n",
       "      <th>Gender_2</th>\n",
       "      <th>Race_2</th>\n",
       "      <th>Race_3</th>\n",
       "      <th>Race_5</th>\n",
       "    </tr>\n",
       "  </thead>\n",
       "  <tbody>\n",
       "    <tr>\n",
       "      <th>0</th>\n",
       "      <td>PRV51001</td>\n",
       "      <td>No</td>\n",
       "      <td>20</td>\n",
       "      <td>0.0</td>\n",
       "      <td>0.0</td>\n",
       "      <td>1</td>\n",
       "      <td>12</td>\n",
       "      <td>12</td>\n",
       "      <td>1</td>\n",
       "      <td>1</td>\n",
       "      <td>...</td>\n",
       "      <td>0</td>\n",
       "      <td>0</td>\n",
       "      <td>300</td>\n",
       "      <td>110</td>\n",
       "      <td>80.0</td>\n",
       "      <td>0.0</td>\n",
       "      <td>0</td>\n",
       "      <td>0</td>\n",
       "      <td>0</td>\n",
       "      <td>0</td>\n",
       "    </tr>\n",
       "    <tr>\n",
       "      <th>1</th>\n",
       "      <td>PRV51001</td>\n",
       "      <td>No</td>\n",
       "      <td>700</td>\n",
       "      <td>0.0</td>\n",
       "      <td>0.0</td>\n",
       "      <td>0</td>\n",
       "      <td>12</td>\n",
       "      <td>12</td>\n",
       "      <td>1</td>\n",
       "      <td>0</td>\n",
       "      <td>...</td>\n",
       "      <td>0</td>\n",
       "      <td>0</td>\n",
       "      <td>720</td>\n",
       "      <td>10</td>\n",
       "      <td>67.0</td>\n",
       "      <td>0.0</td>\n",
       "      <td>0</td>\n",
       "      <td>0</td>\n",
       "      <td>0</td>\n",
       "      <td>0</td>\n",
       "    </tr>\n",
       "    <tr>\n",
       "      <th>2</th>\n",
       "      <td>PRV51001</td>\n",
       "      <td>No</td>\n",
       "      <td>900</td>\n",
       "      <td>0.0</td>\n",
       "      <td>0.0</td>\n",
       "      <td>0</td>\n",
       "      <td>12</td>\n",
       "      <td>12</td>\n",
       "      <td>0</td>\n",
       "      <td>0</td>\n",
       "      <td>...</td>\n",
       "      <td>0</td>\n",
       "      <td>0</td>\n",
       "      <td>1380</td>\n",
       "      <td>370</td>\n",
       "      <td>76.0</td>\n",
       "      <td>0.0</td>\n",
       "      <td>1</td>\n",
       "      <td>0</td>\n",
       "      <td>0</td>\n",
       "      <td>0</td>\n",
       "    </tr>\n",
       "    <tr>\n",
       "      <th>3</th>\n",
       "      <td>PRV51001</td>\n",
       "      <td>No</td>\n",
       "      <td>500</td>\n",
       "      <td>0.0</td>\n",
       "      <td>0.0</td>\n",
       "      <td>0</td>\n",
       "      <td>12</td>\n",
       "      <td>12</td>\n",
       "      <td>1</td>\n",
       "      <td>1</td>\n",
       "      <td>...</td>\n",
       "      <td>2020</td>\n",
       "      <td>1068</td>\n",
       "      <td>6700</td>\n",
       "      <td>2700</td>\n",
       "      <td>74.0</td>\n",
       "      <td>0.0</td>\n",
       "      <td>0</td>\n",
       "      <td>0</td>\n",
       "      <td>0</td>\n",
       "      <td>0</td>\n",
       "    </tr>\n",
       "    <tr>\n",
       "      <th>4</th>\n",
       "      <td>PRV51001</td>\n",
       "      <td>No</td>\n",
       "      <td>36000</td>\n",
       "      <td>1068.0</td>\n",
       "      <td>5.0</td>\n",
       "      <td>0</td>\n",
       "      <td>12</td>\n",
       "      <td>12</td>\n",
       "      <td>0</td>\n",
       "      <td>1</td>\n",
       "      <td>...</td>\n",
       "      <td>36000</td>\n",
       "      <td>1068</td>\n",
       "      <td>3520</td>\n",
       "      <td>140</td>\n",
       "      <td>69.0</td>\n",
       "      <td>0.0</td>\n",
       "      <td>0</td>\n",
       "      <td>0</td>\n",
       "      <td>0</td>\n",
       "      <td>0</td>\n",
       "    </tr>\n",
       "  </tbody>\n",
       "</table>\n",
       "<p>5 rows × 29 columns</p>\n",
       "</div>"
      ],
      "text/plain": [
       "   Provider PotentialFraud  InscClaimAmtReimbursed  DeductibleAmtPaid  \\\n",
       "0  PRV51001             No                      20                0.0   \n",
       "1  PRV51001             No                     700                0.0   \n",
       "2  PRV51001             No                     900                0.0   \n",
       "3  PRV51001             No                     500                0.0   \n",
       "4  PRV51001             No                   36000             1068.0   \n",
       "\n",
       "   AdmitForDays RenalDiseaseIndicator  NoOfMonths_PartACov  \\\n",
       "0           0.0                     1                   12   \n",
       "1           0.0                     0                   12   \n",
       "2           0.0                     0                   12   \n",
       "3           0.0                     0                   12   \n",
       "4           5.0                     0                   12   \n",
       "\n",
       "   NoOfMonths_PartBCov  ChronicCond_Alzheimer  ChronicCond_Heartfailure  ...  \\\n",
       "0                   12                      1                         1  ...   \n",
       "1                   12                      1                         0  ...   \n",
       "2                   12                      0                         0  ...   \n",
       "3                   12                      1                         1  ...   \n",
       "4                   12                      0                         1  ...   \n",
       "\n",
       "   IPAnnualReimbursementAmt  IPAnnualDeductibleAmt  OPAnnualReimbursementAmt  \\\n",
       "0                         0                      0                       300   \n",
       "1                         0                      0                       720   \n",
       "2                         0                      0                      1380   \n",
       "3                      2020                   1068                      6700   \n",
       "4                     36000                   1068                      3520   \n",
       "\n",
       "   OPAnnualDeductibleAmt   Age  WhetherDead  Gender_2  Race_2  Race_3  Race_5  \n",
       "0                    110  80.0          0.0         0       0       0       0  \n",
       "1                     10  67.0          0.0         0       0       0       0  \n",
       "2                    370  76.0          0.0         1       0       0       0  \n",
       "3                   2700  74.0          0.0         0       0       0       0  \n",
       "4                    140  69.0          0.0         0       0       0       0  \n",
       "\n",
       "[5 rows x 29 columns]"
      ]
     },
     "execution_count": 43,
     "metadata": {},
     "output_type": "execute_result"
    }
   ],
   "source": [
    "Train_fs.head()\n"
   ]
  },
  {
   "cell_type": "code",
   "execution_count": 44,
   "metadata": {
    "execution": {
     "iopub.execute_input": "2023-04-03T04:10:15.098301Z",
     "iopub.status.busy": "2023-04-03T04:10:15.097926Z",
     "iopub.status.idle": "2023-04-03T04:10:15.208735Z",
     "shell.execute_reply": "2023-04-03T04:10:15.207834Z",
     "shell.execute_reply.started": "2023-04-03T04:10:15.098263Z"
    }
   },
   "outputs": [
    {
     "data": {
      "text/plain": [
       "dtype('int64')"
      ]
     },
     "execution_count": 44,
     "metadata": {},
     "output_type": "execute_result"
    }
   ],
   "source": [
    "#Converting Target values to 1 and 0,where '1' means Yes and '0' means No\n",
    "\n",
    "Train_fs.PotentialFraud.replace(['Yes','No'],['1','0'],inplace=True)\n",
    "Train_fs.head()\n",
    "Train_fs.PotentialFraud=Train_fs.PotentialFraud.astype('int64')\n",
    "Train_fs.PotentialFraud.dtypes"
   ]
  },
  {
   "cell_type": "code",
   "execution_count": 45,
   "metadata": {
    "execution": {
     "iopub.execute_input": "2023-04-03T04:10:15.210535Z",
     "iopub.status.busy": "2023-04-03T04:10:15.210094Z",
     "iopub.status.idle": "2023-04-03T04:10:15.217558Z",
     "shell.execute_reply": "2023-04-03T04:10:15.215157Z",
     "shell.execute_reply.started": "2023-04-03T04:10:15.210495Z"
    }
   },
   "outputs": [
    {
     "name": "stdout",
     "output_type": "stream",
     "text": [
      "Test Shape before removing (693603, 28)\n"
     ]
    }
   ],
   "source": [
    "print('Test Shape before removing',Test_fs.shape)"
   ]
  },
  {
   "cell_type": "code",
   "execution_count": 46,
   "metadata": {
    "execution": {
     "iopub.execute_input": "2023-04-03T04:10:15.219451Z",
     "iopub.status.busy": "2023-04-03T04:10:15.219102Z",
     "iopub.status.idle": "2023-04-03T04:10:15.227479Z",
     "shell.execute_reply": "2023-04-03T04:10:15.226515Z",
     "shell.execute_reply.started": "2023-04-03T04:10:15.219417Z"
    }
   },
   "outputs": [],
   "source": [
    "Test_fs=Test_fs.iloc[:135392]   #Remove train data from appended test data (as 135392 is the last record of train data)"
   ]
  },
  {
   "cell_type": "code",
   "execution_count": 47,
   "metadata": {
    "execution": {
     "iopub.execute_input": "2023-04-03T04:10:15.229566Z",
     "iopub.status.busy": "2023-04-03T04:10:15.229179Z",
     "iopub.status.idle": "2023-04-03T04:10:15.540090Z",
     "shell.execute_reply": "2023-04-03T04:10:15.539055Z",
     "shell.execute_reply.started": "2023-04-03T04:10:15.229539Z"
    }
   },
   "outputs": [],
   "source": [
    "#Aggregating claims data to unique providers.\n",
    "\n",
    "Train=Train_fs.groupby(['Provider','PotentialFraud'],as_index=False).agg('sum')\n",
    "Test=Test_fs.groupby(['Provider'],as_index=False).agg('sum')"
   ]
  },
  {
   "cell_type": "code",
   "execution_count": 48,
   "metadata": {
    "execution": {
     "iopub.execute_input": "2023-04-03T04:10:15.541938Z",
     "iopub.status.busy": "2023-04-03T04:10:15.541575Z",
     "iopub.status.idle": "2023-04-03T04:10:15.567055Z",
     "shell.execute_reply": "2023-04-03T04:10:15.566030Z",
     "shell.execute_reply.started": "2023-04-03T04:10:15.541900Z"
    }
   },
   "outputs": [
    {
     "data": {
      "text/html": [
       "<div>\n",
       "<style scoped>\n",
       "    .dataframe tbody tr th:only-of-type {\n",
       "        vertical-align: middle;\n",
       "    }\n",
       "\n",
       "    .dataframe tbody tr th {\n",
       "        vertical-align: top;\n",
       "    }\n",
       "\n",
       "    .dataframe thead th {\n",
       "        text-align: right;\n",
       "    }\n",
       "</style>\n",
       "<table border=\"1\" class=\"dataframe\">\n",
       "  <thead>\n",
       "    <tr style=\"text-align: right;\">\n",
       "      <th></th>\n",
       "      <th>Provider</th>\n",
       "      <th>PotentialFraud</th>\n",
       "      <th>InscClaimAmtReimbursed</th>\n",
       "      <th>DeductibleAmtPaid</th>\n",
       "      <th>AdmitForDays</th>\n",
       "      <th>NoOfMonths_PartACov</th>\n",
       "      <th>NoOfMonths_PartBCov</th>\n",
       "      <th>ChronicCond_Alzheimer</th>\n",
       "      <th>ChronicCond_Heartfailure</th>\n",
       "      <th>ChronicCond_KidneyDisease</th>\n",
       "      <th>...</th>\n",
       "      <th>IPAnnualReimbursementAmt</th>\n",
       "      <th>IPAnnualDeductibleAmt</th>\n",
       "      <th>OPAnnualReimbursementAmt</th>\n",
       "      <th>OPAnnualDeductibleAmt</th>\n",
       "      <th>Age</th>\n",
       "      <th>WhetherDead</th>\n",
       "      <th>Gender_2</th>\n",
       "      <th>Race_2</th>\n",
       "      <th>Race_3</th>\n",
       "      <th>Race_5</th>\n",
       "    </tr>\n",
       "  </thead>\n",
       "  <tbody>\n",
       "    <tr>\n",
       "      <th>0</th>\n",
       "      <td>PRV51001</td>\n",
       "      <td>0</td>\n",
       "      <td>104640</td>\n",
       "      <td>5340.0</td>\n",
       "      <td>30.0</td>\n",
       "      <td>300</td>\n",
       "      <td>300</td>\n",
       "      <td>15</td>\n",
       "      <td>19</td>\n",
       "      <td>17</td>\n",
       "      <td>...</td>\n",
       "      <td>440150</td>\n",
       "      <td>22428</td>\n",
       "      <td>65380</td>\n",
       "      <td>11598</td>\n",
       "      <td>1971.0</td>\n",
       "      <td>0.0</td>\n",
       "      <td>16.0</td>\n",
       "      <td>4.0</td>\n",
       "      <td>0.0</td>\n",
       "      <td>0.0</td>\n",
       "    </tr>\n",
       "    <tr>\n",
       "      <th>1</th>\n",
       "      <td>PRV51003</td>\n",
       "      <td>1</td>\n",
       "      <td>605670</td>\n",
       "      <td>66286.0</td>\n",
       "      <td>382.0</td>\n",
       "      <td>1560</td>\n",
       "      <td>1567</td>\n",
       "      <td>56</td>\n",
       "      <td>80</td>\n",
       "      <td>64</td>\n",
       "      <td>...</td>\n",
       "      <td>999000</td>\n",
       "      <td>122948</td>\n",
       "      <td>353520</td>\n",
       "      <td>97300</td>\n",
       "      <td>9243.0</td>\n",
       "      <td>1.0</td>\n",
       "      <td>78.0</td>\n",
       "      <td>24.0</td>\n",
       "      <td>0.0</td>\n",
       "      <td>1.0</td>\n",
       "    </tr>\n",
       "  </tbody>\n",
       "</table>\n",
       "<p>2 rows × 28 columns</p>\n",
       "</div>"
      ],
      "text/plain": [
       "   Provider  PotentialFraud  InscClaimAmtReimbursed  DeductibleAmtPaid  \\\n",
       "0  PRV51001               0                  104640             5340.0   \n",
       "1  PRV51003               1                  605670            66286.0   \n",
       "\n",
       "   AdmitForDays  NoOfMonths_PartACov  NoOfMonths_PartBCov  \\\n",
       "0          30.0                  300                  300   \n",
       "1         382.0                 1560                 1567   \n",
       "\n",
       "   ChronicCond_Alzheimer  ChronicCond_Heartfailure  ChronicCond_KidneyDisease  \\\n",
       "0                     15                        19                         17   \n",
       "1                     56                        80                         64   \n",
       "\n",
       "   ...  IPAnnualReimbursementAmt  IPAnnualDeductibleAmt  \\\n",
       "0  ...                    440150                  22428   \n",
       "1  ...                    999000                 122948   \n",
       "\n",
       "   OPAnnualReimbursementAmt  OPAnnualDeductibleAmt     Age  WhetherDead  \\\n",
       "0                     65380                  11598  1971.0          0.0   \n",
       "1                    353520                  97300  9243.0          1.0   \n",
       "\n",
       "   Gender_2  Race_2  Race_3  Race_5  \n",
       "0      16.0     4.0     0.0     0.0  \n",
       "1      78.0    24.0     0.0     1.0  \n",
       "\n",
       "[2 rows x 28 columns]"
      ]
     },
     "execution_count": 48,
     "metadata": {},
     "output_type": "execute_result"
    }
   ],
   "source": [
    "Train.head(2)"
   ]
  },
  {
   "cell_type": "code",
   "execution_count": 49,
   "metadata": {
    "execution": {
     "iopub.execute_input": "2023-04-03T04:10:15.569643Z",
     "iopub.status.busy": "2023-04-03T04:10:15.569011Z",
     "iopub.status.idle": "2023-04-03T04:10:15.575832Z",
     "shell.execute_reply": "2023-04-03T04:10:15.574608Z",
     "shell.execute_reply.started": "2023-04-03T04:10:15.569605Z"
    }
   },
   "outputs": [
    {
     "name": "stdout",
     "output_type": "stream",
     "text": [
      "Providers in Train: (5410, 28)\n",
      "Providers in Test : (1353, 27)\n"
     ]
    }
   ],
   "source": [
    "print('Providers in Train:' ,Train.shape)\n",
    "print('Providers in Test :',Test.shape)"
   ]
  },
  {
   "cell_type": "markdown",
   "metadata": {},
   "source": [
    "**Train Validation split**"
   ]
  },
  {
   "cell_type": "code",
   "execution_count": 50,
   "metadata": {
    "execution": {
     "iopub.execute_input": "2023-04-03T04:10:15.578121Z",
     "iopub.status.busy": "2023-04-03T04:10:15.577448Z",
     "iopub.status.idle": "2023-04-03T04:10:15.585746Z",
     "shell.execute_reply": "2023-04-03T04:10:15.584751Z",
     "shell.execute_reply.started": "2023-04-03T04:10:15.578083Z"
    }
   },
   "outputs": [],
   "source": [
    "## Lets Seperate out Target and providers from independent variables.Create Target column y.\n",
    "\n",
    "X=Train.drop(axis=1,columns=['Provider','PotentialFraud'])\n",
    "y=Train['PotentialFraud']"
   ]
  },
  {
   "cell_type": "code",
   "execution_count": 51,
   "metadata": {
    "execution": {
     "iopub.execute_input": "2023-04-03T04:10:15.589094Z",
     "iopub.status.busy": "2023-04-03T04:10:15.588355Z",
     "iopub.status.idle": "2023-04-03T04:10:15.602821Z",
     "shell.execute_reply": "2023-04-03T04:10:15.601917Z",
     "shell.execute_reply.started": "2023-04-03T04:10:15.589032Z"
    }
   },
   "outputs": [],
   "source": [
    "#Feature Scaling: standerdization\n",
    "\n",
    "#Apply StandardScaler and transform values to its z form,where 99.7% values range between -3 to 3.\n",
    "sc=StandardScaler()   # MinMaxScaler\n",
    "sc.fit(X)\n",
    "X_std=sc.transform(X)\n",
    "\n",
    "X_teststd=sc.transform(Test.iloc[:,1:])   #Apply Standard Scaler to unseen data as well."
   ]
  },
  {
   "cell_type": "code",
   "execution_count": 52,
   "metadata": {
    "execution": {
     "iopub.execute_input": "2023-04-03T04:10:15.605596Z",
     "iopub.status.busy": "2023-04-03T04:10:15.604985Z",
     "iopub.status.idle": "2023-04-03T04:10:15.610815Z",
     "shell.execute_reply": "2023-04-03T04:10:15.609712Z",
     "shell.execute_reply.started": "2023-04-03T04:10:15.605560Z"
    }
   },
   "outputs": [
    {
     "name": "stdout",
     "output_type": "stream",
     "text": [
      "X Shape: (5410, 26)\n"
     ]
    }
   ],
   "source": [
    "print('X Shape:',X_std.shape)"
   ]
  },
  {
   "cell_type": "markdown",
   "metadata": {},
   "source": [
    "#### Train & Test split\n"
   ]
  },
  {
   "cell_type": "code",
   "execution_count": 53,
   "metadata": {
    "execution": {
     "iopub.execute_input": "2023-04-03T04:10:15.613031Z",
     "iopub.status.busy": "2023-04-03T04:10:15.612386Z",
     "iopub.status.idle": "2023-04-03T04:10:15.671919Z",
     "shell.execute_reply": "2023-04-03T04:10:15.670916Z",
     "shell.execute_reply.started": "2023-04-03T04:10:15.612995Z"
    }
   },
   "outputs": [],
   "source": [
    "from sklearn.model_selection import train_test_split\n",
    "X_train,X_test,y_train,y_test = train_test_split(X_std,y,test_size=0.3,random_state=101)"
   ]
  },
  {
   "cell_type": "code",
   "execution_count": 54,
   "metadata": {
    "execution": {
     "iopub.execute_input": "2023-04-03T04:10:15.673767Z",
     "iopub.status.busy": "2023-04-03T04:10:15.673416Z",
     "iopub.status.idle": "2023-04-03T04:10:15.680103Z",
     "shell.execute_reply": "2023-04-03T04:10:15.678461Z",
     "shell.execute_reply.started": "2023-04-03T04:10:15.673729Z"
    }
   },
   "outputs": [
    {
     "name": "stdout",
     "output_type": "stream",
     "text": [
      "X_train : (3787, 26)\n",
      "y_train : (3787,)\n",
      "X_test : (1623, 26)\n",
      "y_test : (1623,)\n"
     ]
    }
   ],
   "source": [
    "print('X_train :',X_train.shape)\n",
    "print('y_train :',y_train.shape)\n",
    "\n",
    "print('X_test :',X_test.shape)\n",
    "print('y_test :',y_test.shape)"
   ]
  },
  {
   "cell_type": "code",
   "execution_count": 55,
   "metadata": {
    "execution": {
     "iopub.execute_input": "2023-04-03T04:10:15.682248Z",
     "iopub.status.busy": "2023-04-03T04:10:15.681355Z",
     "iopub.status.idle": "2023-04-03T04:10:15.690482Z",
     "shell.execute_reply": "2023-04-03T04:10:15.689199Z",
     "shell.execute_reply.started": "2023-04-03T04:10:15.682196Z"
    }
   },
   "outputs": [],
   "source": [
    "import numpy as np\n",
    "\n",
    "class Node:\n",
    "    \n",
    "    def __init__(self, feature=None, threshold=None, chi2=None, left=None, right=None, value=None):\n",
    "        self.feature = feature\n",
    "        self.threshold = threshold\n",
    "        self.chi2 = chi2\n",
    "        self.left = left\n",
    "        self.right = right\n",
    "        self.value = value"
   ]
  },
  {
   "cell_type": "code",
   "execution_count": 56,
   "metadata": {
    "execution": {
     "iopub.execute_input": "2023-04-03T04:10:15.692875Z",
     "iopub.status.busy": "2023-04-03T04:10:15.692176Z",
     "iopub.status.idle": "2023-04-03T04:10:15.711672Z",
     "shell.execute_reply": "2023-04-03T04:10:15.710755Z",
     "shell.execute_reply.started": "2023-04-03T04:10:15.692838Z"
    }
   },
   "outputs": [],
   "source": [
    "class DecisionTree:\n",
    "    \n",
    "    def __init__(self, alpha=0.05, min_samples=3,max_depth=5):\n",
    "        self.alpha = alpha\n",
    "        self.min_samples = min_samples\n",
    "        self.max_depth = max_depth\n",
    "        self.tree = None\n",
    "    \n",
    "    def fit(self, X, y):\n",
    "        self.tree = self._build_tree(X, y)\n",
    "    \n",
    "    \n",
    "    def predict(self, X):\n",
    "        y_pred = np.apply_along_axis(lambda x: self._traverse_tree(self.tree, x), 1, X)\n",
    "        return y_pred\n",
    "\n",
    "    def _traverse_tree(self, node, x):\n",
    "        if node.feature is None:\n",
    "            return node.value\n",
    "        if x[node.feature] <= node.threshold:\n",
    "            return self._traverse_tree(node.left, x)\n",
    "        else:\n",
    "            return self._traverse_tree(node.right, x)\n",
    "    \n",
    "    def _build_tree(self, X, y):\n",
    "        if X.shape[0] <= self.min_samples:\n",
    "            return Node(value=self._get_leaf_value(y))\n",
    "        \n",
    "        # Split the data into two branches\n",
    "        best_feature, best_threshold, best_chi2 = self._get_best_split(X, y)\n",
    "        if best_feature is None:\n",
    "            return Node(value=self._get_leaf_value(y))\n",
    "        \n",
    "        left_mask = X[:, best_feature] <= best_threshold\n",
    "        right_mask = ~left_mask\n",
    "        left_tree = self._build_tree(X[left_mask], y[left_mask])\n",
    "        right_tree = self._build_tree(X[right_mask], y[right_mask])\n",
    "        \n",
    "        return Node(feature=best_feature, threshold=best_threshold, chi2=best_chi2, left=left_tree, right=right_tree)\n",
    "    \n",
    "    def _get_best_split(self, X, y):\n",
    "        best = (None, None, 0)\n",
    "        thresholds_func = lambda sorted_X: (sorted_X[1:] + sorted_X[:-1]) / 2\n",
    "    \n",
    "        for feature in range(X.shape[1]):\n",
    "            sorted_X = np.sort(X[:, feature])\n",
    "            thresholds = thresholds_func(sorted_X)\n",
    "            for threshold in thresholds:\n",
    "                left_mask = X[:, feature] <= threshold\n",
    "                right_mask = ~left_mask\n",
    "                if left_mask.sum() < self.min_samples or right_mask.sum() < self.min_samples:\n",
    "                    continue\n",
    "                chi2 = self._get_chi2(y, left_mask, right_mask)\n",
    "                if chi2 > best[2]:\n",
    "                    best = (feature, threshold, chi2)\n",
    "    \n",
    "        return best if best[0] is not None else (None, None, None)\n",
    "\n",
    "\n",
    "    def _get_chi2(self, y, left_mask, right_mask):\n",
    "        observed = np.array([\n",
    "            [np.sum(y[left_mask] == 0), np.sum(y[left_mask] == 1)],\n",
    "            [np.sum(y[right_mask] == 0), np.sum(y[right_mask] == 1)]\n",
    "        ])\n",
    "        expected = np.array([\n",
    "            [np.sum(left_mask) * np.sum(y == 0), np.sum(left_mask) * np.sum(y == 1)],\n",
    "            [np.sum(right_mask) * np.sum(y == 0), np.sum(right_mask) * np.sum(y == 1)]\n",
    "        ]) / y.shape[0]\n",
    "        chi2 = np.sum((observed - expected) ** 2 / expected)\n",
    "        return chi2\n",
    "    \n",
    "    def _get_leaf_value(self, y):\n",
    "        return np.bincount(y).argmax()\n"
   ]
  },
  {
   "cell_type": "code",
   "execution_count": 57,
   "metadata": {
    "execution": {
     "iopub.execute_input": "2023-04-03T04:10:15.713465Z",
     "iopub.status.busy": "2023-04-03T04:10:15.713014Z",
     "iopub.status.idle": "2023-04-03T04:10:15.724370Z",
     "shell.execute_reply": "2023-04-03T04:10:15.723287Z",
     "shell.execute_reply.started": "2023-04-03T04:10:15.713427Z"
    }
   },
   "outputs": [],
   "source": [
    "classifier = DecisionTree()"
   ]
  },
  {
   "cell_type": "code",
   "execution_count": 58,
   "metadata": {
    "execution": {
     "iopub.execute_input": "2023-04-03T04:10:15.726256Z",
     "iopub.status.busy": "2023-04-03T04:10:15.725894Z",
     "iopub.status.idle": "2023-04-03T04:10:15.738164Z",
     "shell.execute_reply": "2023-04-03T04:10:15.736997Z",
     "shell.execute_reply.started": "2023-04-03T04:10:15.726222Z"
    }
   },
   "outputs": [
    {
     "data": {
      "text/plain": [
       "{'divide': 'warn', 'over': 'warn', 'under': 'ignore', 'invalid': 'warn'}"
      ]
     },
     "execution_count": 58,
     "metadata": {},
     "output_type": "execute_result"
    }
   ],
   "source": [
    "np.seterr(divide='ignore', invalid='ignore')"
   ]
  },
  {
   "cell_type": "code",
   "execution_count": 59,
   "metadata": {
    "execution": {
     "iopub.execute_input": "2023-04-03T04:10:15.741973Z",
     "iopub.status.busy": "2023-04-03T04:10:15.740849Z",
     "iopub.status.idle": "2023-04-03T04:10:15.746821Z",
     "shell.execute_reply": "2023-04-03T04:10:15.745541Z",
     "shell.execute_reply.started": "2023-04-03T04:10:15.741936Z"
    }
   },
   "outputs": [],
   "source": [
    "import time\n",
    "# record start time\n",
    "start_time = time.time()"
   ]
  },
  {
   "cell_type": "code",
   "execution_count": 60,
   "metadata": {
    "execution": {
     "iopub.execute_input": "2023-04-03T04:10:15.749222Z",
     "iopub.status.busy": "2023-04-03T04:10:15.748800Z",
     "iopub.status.idle": "2023-04-03T04:44:53.356575Z",
     "shell.execute_reply": "2023-04-03T04:44:53.355566Z",
     "shell.execute_reply.started": "2023-04-03T04:10:15.749187Z"
    }
   },
   "outputs": [],
   "source": [
    "classifier.fit(X_train , y_train)"
   ]
  },
  {
   "cell_type": "code",
   "execution_count": 61,
   "metadata": {
    "execution": {
     "iopub.execute_input": "2023-04-03T04:44:53.358479Z",
     "iopub.status.busy": "2023-04-03T04:44:53.358006Z",
     "iopub.status.idle": "2023-04-03T04:44:53.375484Z",
     "shell.execute_reply": "2023-04-03T04:44:53.374439Z",
     "shell.execute_reply.started": "2023-04-03T04:44:53.358440Z"
    }
   },
   "outputs": [],
   "source": [
    "y_pred = classifier.predict(X_test)"
   ]
  },
  {
   "cell_type": "code",
   "execution_count": 62,
   "metadata": {
    "execution": {
     "iopub.execute_input": "2023-04-03T04:44:53.377722Z",
     "iopub.status.busy": "2023-04-03T04:44:53.377417Z",
     "iopub.status.idle": "2023-04-03T04:44:53.388015Z",
     "shell.execute_reply": "2023-04-03T04:44:53.387134Z",
     "shell.execute_reply.started": "2023-04-03T04:44:53.377695Z"
    }
   },
   "outputs": [
    {
     "name": "stdout",
     "output_type": "stream",
     "text": [
      "Time taken to run the code: 2077.64 seconds\n"
     ]
    }
   ],
   "source": [
    "# record end time\n",
    "end_time = time.time()\n",
    "\n",
    "# calculate the time taken to fit the model\n",
    "time_taken = end_time - start_time\n",
    "\n",
    "# print the time taken\n",
    "print(\"Time taken to run the code: {:.2f} seconds\".format(time_taken))"
   ]
  },
  {
   "cell_type": "code",
   "execution_count": 63,
   "metadata": {
    "execution": {
     "iopub.execute_input": "2023-04-03T04:44:53.391249Z",
     "iopub.status.busy": "2023-04-03T04:44:53.389756Z",
     "iopub.status.idle": "2023-04-03T04:44:53.398300Z",
     "shell.execute_reply": "2023-04-03T04:44:53.397110Z",
     "shell.execute_reply.started": "2023-04-03T04:44:53.391221Z"
    }
   },
   "outputs": [
    {
     "name": "stdout",
     "output_type": "stream",
     "text": [
      "The time taken by the model(in minutes): 0:35:11\n"
     ]
    }
   ],
   "source": [
    "def convert(seconds):\n",
    "    seconds = seconds % (24 * 3600)\n",
    "    hour = seconds // 3600\n",
    "    seconds %= 3600\n",
    "    minutes = seconds // 60\n",
    "    seconds %= 60\n",
    "\n",
    "    return \"%d:%02d:%02d\" % (hour, minutes, seconds)\n",
    "\n",
    "n = 2111.97\n",
    "print(\"The time taken by the model(in minutes):\",convert(n))\n"
   ]
  },
  {
   "cell_type": "code",
   "execution_count": 64,
   "metadata": {
    "execution": {
     "iopub.execute_input": "2023-04-03T04:44:53.400601Z",
     "iopub.status.busy": "2023-04-03T04:44:53.399764Z",
     "iopub.status.idle": "2023-04-03T04:44:53.411902Z",
     "shell.execute_reply": "2023-04-03T04:44:53.411166Z",
     "shell.execute_reply.started": "2023-04-03T04:44:53.400564Z"
    }
   },
   "outputs": [
    {
     "data": {
      "text/plain": [
       "array([0, 1, 0, ..., 0, 0, 0])"
      ]
     },
     "execution_count": 64,
     "metadata": {},
     "output_type": "execute_result"
    }
   ],
   "source": [
    "y_pred"
   ]
  },
  {
   "cell_type": "code",
   "execution_count": 65,
   "metadata": {
    "execution": {
     "iopub.execute_input": "2023-04-03T04:44:53.414002Z",
     "iopub.status.busy": "2023-04-03T04:44:53.413282Z",
     "iopub.status.idle": "2023-04-03T04:44:53.425559Z",
     "shell.execute_reply": "2023-04-03T04:44:53.424586Z",
     "shell.execute_reply.started": "2023-04-03T04:44:53.413964Z"
    }
   },
   "outputs": [
    {
     "name": "stdout",
     "output_type": "stream",
     "text": [
      "[[  76   73]\n",
      " [  67 1407]]\n",
      "Accuracy 0.9137399876771412\n",
      "Recall: 0.5314685314685315\n",
      "Precision: 0.5100671140939598\n",
      "F-score: 0.5205479452054795\n"
     ]
    }
   ],
   "source": [
    "# Calculate TP, FP, FN, TN\n",
    "TP = np.sum((y_test == 1) & (y_pred == 1))\n",
    "FP = np.sum((y_test == 0) & (y_pred == 1))\n",
    "FN = np.sum((y_test == 1) & (y_pred == 0))\n",
    "TN = np.sum((y_test == 0) & (y_pred == 0))\n",
    "\n",
    "# Create confusion matrix\n",
    "confusion_matrix = np.array([[TP, FP], [FN, TN]])\n",
    "print(confusion_matrix)\n",
    "\n",
    "# Calculate accuracy, recall, precision, and F-score\n",
    "accuracy= (TP + TN) / (TP + TN + FP + FN)\n",
    "recall = TP / (TP + FN)\n",
    "precision = TP / (TP + FP)\n",
    "fscore = 2 * (precision * recall) / (precision + recall)\n",
    "\n",
    "print(\"Accuracy\",accuracy)\n",
    "print(\"Recall:\", recall)\n",
    "print(\"Precision:\", precision)\n",
    "print(\"F-score:\", fscore) "
   ]
  },
  {
   "cell_type": "code",
   "execution_count": 66,
   "metadata": {
    "execution": {
     "iopub.execute_input": "2023-04-03T04:44:53.427759Z",
     "iopub.status.busy": "2023-04-03T04:44:53.427086Z",
     "iopub.status.idle": "2023-04-03T04:44:53.679182Z",
     "shell.execute_reply": "2023-04-03T04:44:53.678156Z",
     "shell.execute_reply.started": "2023-04-03T04:44:53.427714Z"
    },
    "scrolled": true
   },
   "outputs": [
    {
     "name": "stdout",
     "output_type": "stream",
     "text": [
      "[[1387   93]\n",
      " [  67   76]]\n",
      "              precision    recall  f1-score   support\n",
      "\n",
      "           0       0.95      0.94      0.95      1480\n",
      "           1       0.45      0.53      0.49       143\n",
      "\n",
      "    accuracy                           0.90      1623\n",
      "   macro avg       0.70      0.73      0.72      1623\n",
      "weighted avg       0.91      0.90      0.91      1623\n",
      "\n",
      "Time taken to run the code: 0.24 seconds\n"
     ]
    }
   ],
   "source": [
    "import time\n",
    "# record start time\n",
    "start_time = time.time()\n",
    "\n",
    "from sklearn.tree import DecisionTreeClassifier\n",
    "from sklearn.metrics import classification_report,confusion_matrix\n",
    "\n",
    "dt_model=DecisionTreeClassifier()\n",
    "dt_model.fit(X_train,y_train)\n",
    "\n",
    "dt_pred = dt_model.predict(X_test)\n",
    "dt_pred\n",
    "\n",
    "from sklearn.metrics import classification_report,confusion_matrix\n",
    "print(confusion_matrix(y_test,dt_pred))\n",
    "\n",
    "print(classification_report(y_test,dt_pred))\n",
    "\n",
    "# record end time\n",
    "end_time = time.time()\n",
    "\n",
    "# calculate the time taken to fit the model\n",
    "time_taken = end_time - start_time\n",
    "\n",
    "# print the time taken\n",
    "print(\"Time taken to run the code: {:.2f} seconds\".format(time_taken))"
   ]
  },
  {
   "cell_type": "markdown",
   "metadata": {},
   "source": [
    "### Comparision"
   ]
  },
  {
   "cell_type": "code",
   "execution_count": 1,
   "metadata": {},
   "outputs": [
    {
     "name": "stdout",
     "output_type": "stream",
     "text": [
      "\n",
      "\n",
      "       Column without using sklearn  With sklearn\n",
      "0  Time stamp                2077.64         0.24\n",
      "1    Accuracy                91.37 %         90 %\n",
      "2      Recall                 53.46%          70%\n",
      "3   Precision                    51%          73%\n",
      "4    F1 Score                 52.05%          72%\n"
     ]
    }
   ],
   "source": [
    "code1 = [2077.64, \"91.37 %\",\"53.46%\",\"51%\",\"52.05%\"]\n",
    "df1 = pd.DataFrame({'without using sklearn ': code1})\n",
    "\n",
    "code2 = [0.24, \"90 %\",\"70%\",\"73%\",\"72%\"]\n",
    "df2 = pd.DataFrame({'With sklearn': code2})\n",
    "\n",
    "\n",
    "result = ['Time stamp', 'Accuracy','Recall','Precision','F1 Score']\n",
    "df3 = pd.DataFrame({'Column': result})\n",
    "\n",
    "\n",
    "# display the results in a table\n",
    "df_r = pd.concat([df3, df1, df2], axis=1)\n",
    "\n",
    "print(\"\\n\")\n",
    "print(df_r)"
   ]
  },
  {
   "cell_type": "code",
   "execution_count": 2,
   "metadata": {},
   "outputs": [
    {
     "data": {
      "image/png": "[encoded data removed]",
      "text/plain": [
       "<Figure size 640x480 with 1 Axes>"
      ]
     },
     "metadata": {},
     "output_type": "display_data"
    }
   ],
   "source": [
    "import numpy as np\n",
    "import matplotlib.pyplot as plt\n",
    "\n",
    "# Define the data for each scenario\n",
    "without_using_sklearn = [2077.64, 91.37,53.46,51,52.05]\n",
    "with_sklearn = [0.9,90,70,73,72]\n",
    "\n",
    "\n",
    "# Define the labels for each performance measure\n",
    "labels = ['Time Taken', 'Accuracy','Recall','Precission', 'F1 Score']\n",
    "\n",
    "# Define the x-axis ticks\n",
    "x = np.arange(len(labels))\n",
    "\n",
    "# Create the figure and axes objects\n",
    "fig, ax = plt.subplots()\n",
    "\n",
    "# Plot the lines for each scenario\n",
    "ax.plot(x, without_using_sklearn, label='without_using_sklearn')\n",
    "ax.plot(x, with_sklearn, label='with_sklearn')\n",
    "\n",
    "\n",
    "# Add labels, title, and legend\n",
    "ax.set_xlabel('Evaluation Metrics')\n",
    "ax.set_xticks(x)\n",
    "ax.set_xticklabels(labels)\n",
    "ax.set_ylabel('Performance')\n",
    "ax.set_title('Decision Tree Classifier Performance')\n",
    "ax.legend()\n",
    "\n",
    "# Show the plot\n",
    "plt.show()"
   ]
  }
 ],
 "metadata": {
  "kernelspec": {
   "display_name": "Python 3 (ipykernel)",
   "language": "python",
   "name": "python3"
  },
  "language_info": {
   "codemirror_mode": {
    "name": "ipython",
    "version": 3
   },
   "file_extension": ".py",
   "mimetype": "text/x-python",
   "name": "python",
   "nbconvert_exporter": "python",
   "pygments_lexer": "ipython3",
   "version": "3.9.13"
  }
 },
 "nbformat": 4,
 "nbformat_minor": 4
}
